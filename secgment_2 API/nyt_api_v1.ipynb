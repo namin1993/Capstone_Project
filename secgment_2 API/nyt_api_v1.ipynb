{
 "cells": [
  {
   "cell_type": "code",
   "execution_count": 33,
   "id": "56c4240a",
   "metadata": {},
   "outputs": [],
   "source": [
    "# Dependencies\n",
    "import requests\n",
    "from pprint import pprint\n",
    "from config_1 import api_key\n",
    "import time\n",
    "import json\n",
    "import pandas as pd"
   ]
  },
  {
   "cell_type": "code",
   "execution_count": 34,
   "id": "841fa37c",
   "metadata": {},
   "outputs": [],
   "source": [
    "#store a query related to terrorism\n",
    "query = \"terror*\""
   ]
  },
  {
   "cell_type": "code",
   "execution_count": 35,
   "id": "32e2a1c9",
   "metadata": {},
   "outputs": [],
   "source": [
    "# Search for articles published between a begin and end date - test time frame\n",
    "#Sept 2001 to Dec 2001\n",
    "begin_date = \"20170101\"\n",
    "end_date = \"20221231\""
   ]
  },
  {
   "cell_type": "code",
   "execution_count": 36,
   "id": "0402e3d8",
   "metadata": {},
   "outputs": [],
   "source": [
    "#save url\n",
    "url = \"https://api.nytimes.com/svc/search/v2/articlesearch.json?\""
   ]
  },
  {
   "cell_type": "code",
   "execution_count": 37,
   "id": "8550453e",
   "metadata": {},
   "outputs": [],
   "source": [
    "# Build query URL\n",
    "# can only concatenate str (not \"list\") to str\n",
    "#sorted query to newest\n",
    "query_url = f\"{url}api-key={api_key}&q={query}&sort=newest&begin_date={begin_date}&end_date={end_date}\""
   ]
  },
  {
   "cell_type": "code",
   "execution_count": 38,
   "id": "c7c1f5f7",
   "metadata": {},
   "outputs": [
    {
     "data": {
      "text/plain": [
       "<Response [200]>"
      ]
     },
     "execution_count": 38,
     "metadata": {},
     "output_type": "execute_result"
    }
   ],
   "source": [
    "#test url\n",
    "response = requests.get(query_url)\n",
    "response"
   ]
  },
  {
   "cell_type": "code",
   "execution_count": null,
   "id": "13ef4bd0",
   "metadata": {},
   "outputs": [],
   "source": []
  },
  {
   "cell_type": "code",
   "execution_count": null,
   "id": "a43dcd57",
   "metadata": {},
   "outputs": [],
   "source": []
  },
  {
   "cell_type": "code",
   "execution_count": 19,
   "id": "ee5992e3",
   "metadata": {},
   "outputs": [],
   "source": [
    "#create loop\n",
    "art_data = []\n",
    "\n",
    "articles = requests.get(query_url).json()\n",
    "\n",
    "#parse the json\n",
    "abstract = articles['response'][\"docs\"][0][\"abstract\"]\n",
    "headline = articles['response'][\"docs\"][2][\"headline\"][\"main\"]\n",
    "lead_paragraph = articles['response'][\"docs\"][0][\"lead_paragraph\"]\n",
    "snippet = articles['response'][\"docs\"][0][\"snippet\"]\n",
    "article_link = articles['response'][\"docs\"][0][\"web_url\"]\n",
    "section_name = articles['response'][\"docs\"][2][\"section_name\"]\n",
    "pub_date = articles['response'][\"docs\"][2][\"pub_date\"]\n",
    "image = articles['response'][\"docs\"][1][\"multimedia\"][0][\"url\"]\n",
    "\n",
    "# loop through pages (10 articles per page)\n",
    "for page in range(0, 1):\n",
    "   # query_url = f\"{url}api-key={api_key}&q={query}&begin_date={begin_date}&end_date={end_date}\"\n",
    "    # create query with page number\n",
    "   ## query_url = f\"{query_url}&page={str(page)}\"\n",
    "    # Add a one second interval between queries to stay within API query limits\n",
    "    time.sleep(1)\n",
    "    \n",
    "    # loop through the response and append each article to the list\n",
    "    for article in articles:\n",
    "        #append to list\n",
    "        art_data.append({\"Headline\": headline, \n",
    "                    \"Abstract\" : abstract,\n",
    "                    \"Lead Paragraph\" : lead_paragraph,\n",
    "                    \"Snippet\" : snippet, \n",
    "                    \"URL\" : article_link, \n",
    "                    \"Date\" : pub_date, \n",
    "                    \"Section\" : section_name, \n",
    "                    \"Image URL\" : image })\n",
    "\n"
   ]
  },
  {
   "cell_type": "code",
   "execution_count": 20,
   "id": "24eb8753",
   "metadata": {},
   "outputs": [
    {
     "name": "stdout",
     "output_type": "stream",
     "text": [
      "Little Terror of the Flyway\n"
     ]
    }
   ],
   "source": [
    "print(headline)"
   ]
  },
  {
   "cell_type": "code",
   "execution_count": 21,
   "id": "4c318799",
   "metadata": {},
   "outputs": [],
   "source": [
    "df = pd.DataFrame(art_data, columns = [\"URL\",\"Headline\", \"Date\", \"Section\", \"Abstract\", \"Lead Paragraph\",\\\n",
    "                                      \"Snippet\"])"
   ]
  },
  {
   "cell_type": "code",
   "execution_count": 22,
   "id": "d463c44b",
   "metadata": {},
   "outputs": [
    {
     "data": {
      "text/html": [
       "<div>\n",
       "<style scoped>\n",
       "    .dataframe tbody tr th:only-of-type {\n",
       "        vertical-align: middle;\n",
       "    }\n",
       "\n",
       "    .dataframe tbody tr th {\n",
       "        vertical-align: top;\n",
       "    }\n",
       "\n",
       "    .dataframe thead th {\n",
       "        text-align: right;\n",
       "    }\n",
       "</style>\n",
       "<table border=\"1\" class=\"dataframe\">\n",
       "  <thead>\n",
       "    <tr style=\"text-align: right;\">\n",
       "      <th></th>\n",
       "      <th>URL</th>\n",
       "      <th>Headline</th>\n",
       "      <th>Date</th>\n",
       "      <th>Section</th>\n",
       "      <th>Abstract</th>\n",
       "      <th>Lead Paragraph</th>\n",
       "      <th>Snippet</th>\n",
       "    </tr>\n",
       "  </thead>\n",
       "  <tbody>\n",
       "    <tr>\n",
       "      <th>0</th>\n",
       "      <td>https://www.nytimes.com/interactive/2022/08/05...</td>\n",
       "      <td>Little Terror of the Flyway</td>\n",
       "      <td>2017-10-19T11:00:14+0000</td>\n",
       "      <td>New York</td>\n",
       "      <td>These titles by Colson Whitehead, Spencer Acke...</td>\n",
       "      <td>These titles by Colson Whitehead, Spencer Acke...</td>\n",
       "      <td>These titles by Colson Whitehead, Spencer Acke...</td>\n",
       "    </tr>\n",
       "    <tr>\n",
       "      <th>1</th>\n",
       "      <td>https://www.nytimes.com/interactive/2022/08/05...</td>\n",
       "      <td>Little Terror of the Flyway</td>\n",
       "      <td>2017-10-19T11:00:14+0000</td>\n",
       "      <td>New York</td>\n",
       "      <td>These titles by Colson Whitehead, Spencer Acke...</td>\n",
       "      <td>These titles by Colson Whitehead, Spencer Acke...</td>\n",
       "      <td>These titles by Colson Whitehead, Spencer Acke...</td>\n",
       "    </tr>\n",
       "    <tr>\n",
       "      <th>2</th>\n",
       "      <td>https://www.nytimes.com/interactive/2022/08/05...</td>\n",
       "      <td>Little Terror of the Flyway</td>\n",
       "      <td>2017-10-19T11:00:14+0000</td>\n",
       "      <td>New York</td>\n",
       "      <td>These titles by Colson Whitehead, Spencer Acke...</td>\n",
       "      <td>These titles by Colson Whitehead, Spencer Acke...</td>\n",
       "      <td>These titles by Colson Whitehead, Spencer Acke...</td>\n",
       "    </tr>\n",
       "  </tbody>\n",
       "</table>\n",
       "</div>"
      ],
      "text/plain": [
       "                                                 URL  \\\n",
       "0  https://www.nytimes.com/interactive/2022/08/05...   \n",
       "1  https://www.nytimes.com/interactive/2022/08/05...   \n",
       "2  https://www.nytimes.com/interactive/2022/08/05...   \n",
       "\n",
       "                      Headline                      Date   Section  \\\n",
       "0  Little Terror of the Flyway  2017-10-19T11:00:14+0000  New York   \n",
       "1  Little Terror of the Flyway  2017-10-19T11:00:14+0000  New York   \n",
       "2  Little Terror of the Flyway  2017-10-19T11:00:14+0000  New York   \n",
       "\n",
       "                                            Abstract  \\\n",
       "0  These titles by Colson Whitehead, Spencer Acke...   \n",
       "1  These titles by Colson Whitehead, Spencer Acke...   \n",
       "2  These titles by Colson Whitehead, Spencer Acke...   \n",
       "\n",
       "                                      Lead Paragraph  \\\n",
       "0  These titles by Colson Whitehead, Spencer Acke...   \n",
       "1  These titles by Colson Whitehead, Spencer Acke...   \n",
       "2  These titles by Colson Whitehead, Spencer Acke...   \n",
       "\n",
       "                                             Snippet  \n",
       "0  These titles by Colson Whitehead, Spencer Acke...  \n",
       "1  These titles by Colson Whitehead, Spencer Acke...  \n",
       "2  These titles by Colson Whitehead, Spencer Acke...  "
      ]
     },
     "execution_count": 22,
     "metadata": {},
     "output_type": "execute_result"
    }
   ],
   "source": [
    "df.head()"
   ]
  },
  {
   "cell_type": "code",
   "execution_count": null,
   "id": "a473e7a3",
   "metadata": {},
   "outputs": [],
   "source": []
  }
 ],
 "metadata": {
  "kernelspec": {
   "display_name": "PythonData",
   "language": "python",
   "name": "pythondata"
  },
  "language_info": {
   "codemirror_mode": {
    "name": "ipython",
    "version": 3
   },
   "file_extension": ".py",
   "mimetype": "text/x-python",
   "name": "python",
   "nbconvert_exporter": "python",
   "pygments_lexer": "ipython3",
   "version": "3.7.11"
  }
 },
 "nbformat": 4,
 "nbformat_minor": 5
}
