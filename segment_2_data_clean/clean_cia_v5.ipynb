{
 "cells": [
  {
   "cell_type": "code",
   "execution_count": 1,
   "id": "83090993",
   "metadata": {},
   "outputs": [],
   "source": [
    "# Import Dependencies\n",
    "from pymongo import MongoClient\n",
    "from config import cloudM, cloudMpassword\n",
    "import pandas as pd\n",
    "import numpy as np\n",
    "import datetime as dt\n",
    "import csv\n",
    "import re"
   ]
  },
  {
   "cell_type": "code",
   "execution_count": 2,
   "id": "9574b9eb",
   "metadata": {},
   "outputs": [],
   "source": [
    "#create a variable for columns to keep\n",
    "#did not include the note columns because it would drop some data due to null\n",
    "columns = [\"Country\", \"Geography: Geographic coordinates\", \"Geography: Map references\", \"Geography: Area - total\",\n",
    "            \"Economy: Real GDP (purchasing power parity)\", \n",
    "            \"Economy: Real GDP growth rate\",\n",
    "            \"Economy: Real GDP per capita\",\n",
    "            \"Economy: Current account balance\",\n",
    "            \"Economy: Exports\",\n",
    "            \"Economy: Exports - partners\",\n",
    "            \"Economy: Reserves of foreign exchange and gold\",\n",
    "            \"Energy: Electricity access - electrification - total population\",\n",
    "            \"Economy: Credit ratings - Moody's rating\",\n",
    "            \"Economy: Credit ratings - Standard & Poors rating\",\n",
    "            \"Economy: Credit ratings - Fitch rating\",\n",
    "            \"Economy: Unemployment rate\",\n",
    "            \"Economy: Population below poverty line\",\n",
    "            \"Economy: Household income or consumption by percentage share - highest 10%\",\n",
    "            \"People and Society: Population\",\n",
    "            \"People and Society: Nationality - noun\",\n",
    "            \"People and Society: Nationality - adjective\",\n",
    "            \"People and Society: Languages\",\n",
    "            \"People and Society: Religions\",\n",
    "            \"People and Society: Age structure - 0-14 years\",\n",
    "            \"People and Society: Age structure - 15-24 years\",\n",
    "            \"People and Society: Age structure - 25-54 years\",\n",
    "            \"People and Society: Age structure - 55-64 years\",\n",
    "            \"People and Society: Median age - total\",\n",
    "            \"People and Society: Median age - male\",\n",
    "            \"People and Society: Median age - female\",\n",
    "            \"People and Society: Population growth rate\",\n",
    "            \"People and Society: Birth rate\",\n",
    "            \"People and Society: Death rate\",\n",
    "            \"People and Society: Net migration rate\",\n",
    "            \"People and Society: Urbanization - urban population\",\n",
    "            \"People and Society: Sex ratio - at birth\",\n",
    "            \"People and Society: Sex ratio - 65 years and over\",\n",
    "            \"People and Society: Sex ratio - total population\",\n",
    "            \"People and Society: Infant mortality rate - total\",\n",
    "            \"People and Society: Life expectancy at birth - total population\",\n",
    "            \"People and Society: Life expectancy at birth - male\",\n",
    "            \"People and Society: Life expectancy at birth - female\",\n",
    "            \"People and Society: Total fertility rate\",\n",
    "            \"People and Society: Obesity - adult prevalence rate\",\n",
    "            \"People and Society: Tobacco use - total\",\n",
    "            \"Communications: Internet users - total\",\n",
    "            \"Communications: Internet users - percent of population\",\n",
    "            \"Military and Security: Military expenditures\",\n",
    "            \"Military and Security: Military service age and obligation\",\n",
    "            \"Terrorism: Terrorist group(s)\", \"Military and Security: Military - note\"]        "
   ]
  },
  {
   "cell_type": "code",
   "execution_count": 3,
   "id": "2c705bde",
   "metadata": {},
   "outputs": [
    {
     "data": {
      "text/html": [
       "<div>\n",
       "<style scoped>\n",
       "    .dataframe tbody tr th:only-of-type {\n",
       "        vertical-align: middle;\n",
       "    }\n",
       "\n",
       "    .dataframe tbody tr th {\n",
       "        vertical-align: top;\n",
       "    }\n",
       "\n",
       "    .dataframe thead th {\n",
       "        text-align: right;\n",
       "    }\n",
       "</style>\n",
       "<table border=\"1\" class=\"dataframe\">\n",
       "  <thead>\n",
       "    <tr style=\"text-align: right;\">\n",
       "      <th></th>\n",
       "      <th>Country</th>\n",
       "      <th>Geography: Geographic coordinates</th>\n",
       "      <th>Geography: Map references</th>\n",
       "      <th>Geography: Area - total</th>\n",
       "      <th>Economy: Real GDP (purchasing power parity)</th>\n",
       "      <th>Economy: Real GDP growth rate</th>\n",
       "      <th>Economy: Real GDP per capita</th>\n",
       "      <th>Economy: Current account balance</th>\n",
       "      <th>Economy: Exports</th>\n",
       "      <th>Economy: Exports - partners</th>\n",
       "      <th>...</th>\n",
       "      <th>People and Society: Life expectancy at birth - female</th>\n",
       "      <th>People and Society: Total fertility rate</th>\n",
       "      <th>People and Society: Obesity - adult prevalence rate</th>\n",
       "      <th>People and Society: Tobacco use - total</th>\n",
       "      <th>Communications: Internet users - total</th>\n",
       "      <th>Communications: Internet users - percent of population</th>\n",
       "      <th>Military and Security: Military expenditures</th>\n",
       "      <th>Military and Security: Military service age and obligation</th>\n",
       "      <th>Terrorism: Terrorist group(s)</th>\n",
       "      <th>Military and Security: Military - note</th>\n",
       "    </tr>\n",
       "  </thead>\n",
       "  <tbody>\n",
       "    <tr>\n",
       "      <th>0</th>\n",
       "      <td>Afghanistan</td>\n",
       "      <td>33 00 N, 65 00 E</td>\n",
       "      <td>Asia</td>\n",
       "      <td>652,230 sq km</td>\n",
       "      <td>$77.04 billion (2020 est.)$78.56 billion (2019...</td>\n",
       "      <td>2.7% (2017 est.)2.2% (2016 est.)1% (2015 est.)</td>\n",
       "      <td>$2,000 (2020 est.)$2,100 (2019 est.)$2,000 (20...</td>\n",
       "      <td>$1.014 billion (2017 est.)$1.409 billion (2016...</td>\n",
       "      <td>$1.48 billion (2020 est.)</td>\n",
       "      <td>United Arab Emirates 45%, Pakistan 24%, India ...</td>\n",
       "      <td>...</td>\n",
       "      <td>55.28 years (2022 est.)</td>\n",
       "      <td>4.62 children born/woman (2022 est.)</td>\n",
       "      <td>5.5% (2016)</td>\n",
       "      <td>23.3% (2020 est.)</td>\n",
       "      <td>7,007,101 (2020 est.)</td>\n",
       "      <td>18% (2020 est.)</td>\n",
       "      <td>3.3% of GDP (2019) (approximately $2.35 billio...</td>\n",
       "      <td>not available</td>\n",
       "      <td>Haqqani Taliban Network; Harakat ul-Mujahidin;...</td>\n",
       "      <td>as of early 2022, the Taliban’s primary securi...</td>\n",
       "    </tr>\n",
       "    <tr>\n",
       "      <th>1</th>\n",
       "      <td>Akrotiri</td>\n",
       "      <td>34 37 N, 32 58 E</td>\n",
       "      <td>Middle East</td>\n",
       "      <td>123 sq km</td>\n",
       "      <td>&lt;NA&gt;</td>\n",
       "      <td>&lt;NA&gt;</td>\n",
       "      <td>&lt;NA&gt;</td>\n",
       "      <td>&lt;NA&gt;</td>\n",
       "      <td>&lt;NA&gt;</td>\n",
       "      <td>&lt;NA&gt;</td>\n",
       "      <td>...</td>\n",
       "      <td>&lt;NA&gt;</td>\n",
       "      <td>&lt;NA&gt;</td>\n",
       "      <td>&lt;NA&gt;</td>\n",
       "      <td>&lt;NA&gt;</td>\n",
       "      <td>&lt;NA&gt;</td>\n",
       "      <td>&lt;NA&gt;</td>\n",
       "      <td>&lt;NA&gt;</td>\n",
       "      <td>&lt;NA&gt;</td>\n",
       "      <td>&lt;NA&gt;</td>\n",
       "      <td>defense is the responsibility of the UK; Akrot...</td>\n",
       "    </tr>\n",
       "  </tbody>\n",
       "</table>\n",
       "<p>2 rows × 51 columns</p>\n",
       "</div>"
      ],
      "text/plain": [
       "       Country Geography: Geographic coordinates Geography: Map references  \\\n",
       "0  Afghanistan                  33 00 N, 65 00 E                      Asia   \n",
       "1     Akrotiri                  34 37 N, 32 58 E               Middle East   \n",
       "\n",
       "  Geography: Area - total        Economy: Real GDP (purchasing power parity)  \\\n",
       "0           652,230 sq km  $77.04 billion (2020 est.)$78.56 billion (2019...   \n",
       "1               123 sq km                                               <NA>   \n",
       "\n",
       "                    Economy: Real GDP growth rate  \\\n",
       "0  2.7% (2017 est.)2.2% (2016 est.)1% (2015 est.)   \n",
       "1                                            <NA>   \n",
       "\n",
       "                        Economy: Real GDP per capita  \\\n",
       "0  $2,000 (2020 est.)$2,100 (2019 est.)$2,000 (20...   \n",
       "1                                               <NA>   \n",
       "\n",
       "                    Economy: Current account balance  \\\n",
       "0  $1.014 billion (2017 est.)$1.409 billion (2016...   \n",
       "1                                               <NA>   \n",
       "\n",
       "             Economy: Exports  \\\n",
       "0  $1.48 billion (2020 est.)    \n",
       "1                        <NA>   \n",
       "\n",
       "                         Economy: Exports - partners  ...  \\\n",
       "0  United Arab Emirates 45%, Pakistan 24%, India ...  ...   \n",
       "1                                               <NA>  ...   \n",
       "\n",
       "  People and Society: Life expectancy at birth - female  \\\n",
       "0                            55.28 years (2022 est.)      \n",
       "1                                               <NA>      \n",
       "\n",
       "  People and Society: Total fertility rate  \\\n",
       "0     4.62 children born/woman (2022 est.)   \n",
       "1                                     <NA>   \n",
       "\n",
       "  People and Society: Obesity - adult prevalence rate  \\\n",
       "0                                        5.5% (2016)    \n",
       "1                                               <NA>    \n",
       "\n",
       "  People and Society: Tobacco use - total  \\\n",
       "0                       23.3% (2020 est.)   \n",
       "1                                    <NA>   \n",
       "\n",
       "  Communications: Internet users - total  \\\n",
       "0                  7,007,101 (2020 est.)   \n",
       "1                                   <NA>   \n",
       "\n",
       "  Communications: Internet users - percent of population  \\\n",
       "0                                    18% (2020 est.)       \n",
       "1                                               <NA>       \n",
       "\n",
       "        Military and Security: Military expenditures  \\\n",
       "0  3.3% of GDP (2019) (approximately $2.35 billio...   \n",
       "1                                               <NA>   \n",
       "\n",
       "  Military and Security: Military service age and obligation  \\\n",
       "0                                      not available           \n",
       "1                                               <NA>           \n",
       "\n",
       "                       Terrorism: Terrorist group(s)  \\\n",
       "0  Haqqani Taliban Network; Harakat ul-Mujahidin;...   \n",
       "1                                               <NA>   \n",
       "\n",
       "              Military and Security: Military - note  \n",
       "0  as of early 2022, the Taliban’s primary securi...  \n",
       "1  defense is the responsibility of the UK; Akrot...  \n",
       "\n",
       "[2 rows x 51 columns]"
      ]
     },
     "execution_count": 3,
     "metadata": {},
     "output_type": "execute_result"
    }
   ],
   "source": [
    "#load data and create df to clean\n",
    "data = pd.read_csv(\"countries.csv\")\n",
    "#previouly determined all fields were objects, load as string for cleaning\n",
    "df = pd.DataFrame(data).astype(\"string\")\n",
    "df = df.loc[:, columns].copy()\n",
    "#check result\n",
    "df.head(2)"
   ]
  },
  {
   "cell_type": "code",
   "execution_count": 4,
   "id": "9346d1bb",
   "metadata": {},
   "outputs": [
    {
     "data": {
      "text/plain": [
       "48"
      ]
     },
     "execution_count": 4,
     "metadata": {},
     "output_type": "execute_result"
    }
   ],
   "source": [
    "#drop null values & determing number of rows \n",
    "df = df.dropna()\n",
    "len(df)"
   ]
  },
  {
   "cell_type": "code",
   "execution_count": 5,
   "id": "9e1aa740",
   "metadata": {},
   "outputs": [
    {
     "data": {
      "text/html": [
       "<div>\n",
       "<style scoped>\n",
       "    .dataframe tbody tr th:only-of-type {\n",
       "        vertical-align: middle;\n",
       "    }\n",
       "\n",
       "    .dataframe tbody tr th {\n",
       "        vertical-align: top;\n",
       "    }\n",
       "\n",
       "    .dataframe thead th {\n",
       "        text-align: right;\n",
       "    }\n",
       "</style>\n",
       "<table border=\"1\" class=\"dataframe\">\n",
       "  <thead>\n",
       "    <tr style=\"text-align: right;\">\n",
       "      <th></th>\n",
       "      <th>Country</th>\n",
       "      <th>Geography: Geographic coordinates</th>\n",
       "      <th>Geography: Map references</th>\n",
       "      <th>Geography: Area - total</th>\n",
       "      <th>Economy: Real GDP (purchasing power parity)</th>\n",
       "      <th>Economy: Real GDP growth rate</th>\n",
       "      <th>Economy: Real GDP per capita</th>\n",
       "      <th>Economy: Current account balance</th>\n",
       "      <th>Economy: Exports</th>\n",
       "      <th>Economy: Exports - partners</th>\n",
       "      <th>...</th>\n",
       "      <th>People and Society: Life expectancy at birth - female</th>\n",
       "      <th>People and Society: Total fertility rate</th>\n",
       "      <th>People and Society: Obesity - adult prevalence rate</th>\n",
       "      <th>People and Society: Tobacco use - total</th>\n",
       "      <th>Communications: Internet users - total</th>\n",
       "      <th>Communications: Internet users - percent of population</th>\n",
       "      <th>Military and Security: Military expenditures</th>\n",
       "      <th>Military and Security: Military service age and obligation</th>\n",
       "      <th>Terrorism: Terrorist group(s)</th>\n",
       "      <th>Military and Security: Military - note</th>\n",
       "    </tr>\n",
       "  </thead>\n",
       "  <tbody>\n",
       "    <tr>\n",
       "      <th>10</th>\n",
       "      <td>Argentina</td>\n",
       "      <td>34 00 S, 64 00 W</td>\n",
       "      <td>South America</td>\n",
       "      <td>2,780,400 sq km</td>\n",
       "      <td>$893.31 billion (2020 est.)$991.52 billion (20...</td>\n",
       "      <td>-2.03% (2019 est.)-2.53% (2018 est.)2.83% (201...</td>\n",
       "      <td>$19,700 (2020 est.)$22,100 (2019 est.)$22,800 ...</td>\n",
       "      <td>-$3.997 billion (2019 est.)-$27.049 billion (2...</td>\n",
       "      <td>$64.18 billion (2020 est.) note: data are in c...</td>\n",
       "      <td>Brazil 16%, China 11%, United States 7%, Chile...</td>\n",
       "      <td>...</td>\n",
       "      <td>81.59 years (2022 est.)</td>\n",
       "      <td>2.18 children born/woman (2022 est.)</td>\n",
       "      <td>28.3% (2016)</td>\n",
       "      <td>24.5% (2020 est.)</td>\n",
       "      <td>39,024,016 (2020 est.)</td>\n",
       "      <td>86% (2020 est.)</td>\n",
       "      <td>0.8% of GDP (2021 est.)0.8% of GDP (2020)0.7% ...</td>\n",
       "      <td>18-24 years of age for voluntary military serv...</td>\n",
       "      <td>Hizballah</td>\n",
       "      <td>Argentina has Major Non-NATO Ally (MNNA) statu...</td>\n",
       "    </tr>\n",
       "    <tr>\n",
       "      <th>15</th>\n",
       "      <td>Austria</td>\n",
       "      <td>47 20 N, 13 20 E</td>\n",
       "      <td>Europe</td>\n",
       "      <td>83,871 sq km</td>\n",
       "      <td>$463.12 billion (2020 est.)$495.8 billion (201...</td>\n",
       "      <td>1.42% (2019 est.)2.58% (2018 est.)2.4% (2017 e...</td>\n",
       "      <td>$51,900 (2020 est.)$55,800 (2019 est.)$55,300 ...</td>\n",
       "      <td>$12.667 billion (2019 est.)$5.989 billion (201...</td>\n",
       "      <td>$226.79 billion (2020 est.) note: data are in ...</td>\n",
       "      <td>Germany 28%, United States 7%, Italy 6%, Switz...</td>\n",
       "      <td>...</td>\n",
       "      <td>85.04 years (2022 est.)</td>\n",
       "      <td>1.51 children born/woman (2022 est.)</td>\n",
       "      <td>20.1% (2016)</td>\n",
       "      <td>26.4% (2020 est.)</td>\n",
       "      <td>7,846,840 (2020 est.)</td>\n",
       "      <td>88% (2020 est.)</td>\n",
       "      <td>0.9% of GDP (2021 est.)0.7% of GDP (2020 est.)...</td>\n",
       "      <td>registration requirement at age 17, the legal ...</td>\n",
       "      <td>Islamic State of Iraq and ash-Sham (ISIS)</td>\n",
       "      <td>Austria is constitutionally non-aligned, but i...</td>\n",
       "    </tr>\n",
       "  </tbody>\n",
       "</table>\n",
       "<p>2 rows × 51 columns</p>\n",
       "</div>"
      ],
      "text/plain": [
       "      Country Geography: Geographic coordinates Geography: Map references  \\\n",
       "10  Argentina                  34 00 S, 64 00 W             South America   \n",
       "15    Austria                  47 20 N, 13 20 E                    Europe   \n",
       "\n",
       "   Geography: Area - total        Economy: Real GDP (purchasing power parity)  \\\n",
       "10         2,780,400 sq km  $893.31 billion (2020 est.)$991.52 billion (20...   \n",
       "15            83,871 sq km  $463.12 billion (2020 est.)$495.8 billion (201...   \n",
       "\n",
       "                        Economy: Real GDP growth rate  \\\n",
       "10  -2.03% (2019 est.)-2.53% (2018 est.)2.83% (201...   \n",
       "15  1.42% (2019 est.)2.58% (2018 est.)2.4% (2017 e...   \n",
       "\n",
       "                         Economy: Real GDP per capita  \\\n",
       "10  $19,700 (2020 est.)$22,100 (2019 est.)$22,800 ...   \n",
       "15  $51,900 (2020 est.)$55,800 (2019 est.)$55,300 ...   \n",
       "\n",
       "                     Economy: Current account balance  \\\n",
       "10  -$3.997 billion (2019 est.)-$27.049 billion (2...   \n",
       "15  $12.667 billion (2019 est.)$5.989 billion (201...   \n",
       "\n",
       "                                     Economy: Exports  \\\n",
       "10  $64.18 billion (2020 est.) note: data are in c...   \n",
       "15  $226.79 billion (2020 est.) note: data are in ...   \n",
       "\n",
       "                          Economy: Exports - partners  ...  \\\n",
       "10  Brazil 16%, China 11%, United States 7%, Chile...  ...   \n",
       "15  Germany 28%, United States 7%, Italy 6%, Switz...  ...   \n",
       "\n",
       "   People and Society: Life expectancy at birth - female  \\\n",
       "10                            81.59 years (2022 est.)      \n",
       "15                            85.04 years (2022 est.)      \n",
       "\n",
       "   People and Society: Total fertility rate  \\\n",
       "10     2.18 children born/woman (2022 est.)   \n",
       "15     1.51 children born/woman (2022 est.)   \n",
       "\n",
       "   People and Society: Obesity - adult prevalence rate  \\\n",
       "10                                       28.3% (2016)    \n",
       "15                                       20.1% (2016)    \n",
       "\n",
       "   People and Society: Tobacco use - total  \\\n",
       "10                       24.5% (2020 est.)   \n",
       "15                       26.4% (2020 est.)   \n",
       "\n",
       "   Communications: Internet users - total  \\\n",
       "10                 39,024,016 (2020 est.)   \n",
       "15                  7,846,840 (2020 est.)   \n",
       "\n",
       "   Communications: Internet users - percent of population  \\\n",
       "10                                    86% (2020 est.)       \n",
       "15                                    88% (2020 est.)       \n",
       "\n",
       "         Military and Security: Military expenditures  \\\n",
       "10  0.8% of GDP (2021 est.)0.8% of GDP (2020)0.7% ...   \n",
       "15  0.9% of GDP (2021 est.)0.7% of GDP (2020 est.)...   \n",
       "\n",
       "   Military and Security: Military service age and obligation  \\\n",
       "10  18-24 years of age for voluntary military serv...           \n",
       "15  registration requirement at age 17, the legal ...           \n",
       "\n",
       "                Terrorism: Terrorist group(s)  \\\n",
       "10                                  Hizballah   \n",
       "15  Islamic State of Iraq and ash-Sham (ISIS)   \n",
       "\n",
       "               Military and Security: Military - note  \n",
       "10  Argentina has Major Non-NATO Ally (MNNA) statu...  \n",
       "15  Austria is constitutionally non-aligned, but i...  \n",
       "\n",
       "[2 rows x 51 columns]"
      ]
     },
     "execution_count": 5,
     "metadata": {},
     "output_type": "execute_result"
    }
   ],
   "source": [
    "#set index to country & check result\n",
    "df.set_index('Country')\n",
    "df.head(2)"
   ]
  },
  {
   "cell_type": "code",
   "execution_count": 6,
   "id": "bd5e8dcd",
   "metadata": {},
   "outputs": [],
   "source": [
    "#create a new DF, preserving the original in case of mistake, with shortened columns name\n",
    "df_a = df.rename(columns = \n",
    "                {\"Geography: Geographic coordinates\" : \"Geographic coordinates\", \"Geography: Map references\" : \"Map references\",      \n",
    "                \"Economy: Real GDP (purchasing power parity)\" : \"Real GDP\", \"Economy: Real GDP growth rate\" : \"GDP Growth Rate\", \n",
    "                \"Economy: Real GDP per capita\" : \"GDP per Capita\",\n",
    "                \"Economy: Current account balance\": \"Econ Current Acct Bal\",\n",
    "                \"Economy: Exports\" : \"Exports\",\n",
    "                \"Economy: Exports - partners\" : \"Exports - Partners\",\n",
    "                \"Economy: Reserves of foreign exchange and gold\" : \"Foreign Exchange & Gold\",\n",
    "                \"Energy: Electricity access - electrification - total population\" :\"Tota; Population Electrication\",\n",
    "                \"Economy: Credit ratings - Moody's rating\" : \"Moody's Rating\",\n",
    "                \"Economy: Credit ratings - Standard & Poors rating\" : \"Standard & Poors Rating\",\n",
    "                \"Economy: Credit ratings - Fitch rating\" : \"Fitch Rating\",\n",
    "                \"Economy: Unemployment rate\" : \"Unemployment Rate\",\n",
    "                \"Economy: Population below poverty line\" : \"Population below poverty line\",\n",
    "                \"Economy: Household income or consumption by percentage share - highest 10%\" : \"Household income or consumption by % -highest 10%\",\n",
    "                \"People and Society: Population\" : \"Population\",\n",
    "                \"People and Society: Nationality - noun\" : \"Nationality - noun\",\n",
    "                \"People and Society: Nationality - adjective\" : \"Nationality - adjective\",\n",
    "                 \"People and Society: Languages\" : \"Languages\",\n",
    "                \"People and Society: Religions\" : \"Religions\",\n",
    "                \"People and Society: Age structure - 0-14 years\" : \"Age structure - 0-14 years\",\n",
    "                \"People and Society: Age structure - 15-24 years\" : \"Age structure - 15-24 years\",\n",
    "                \"People and Society: Age structure - 25-54 years\" : \"Age structure - 25-54 years\",\n",
    "                \"People and Society: Age structure - 55-64 years\" : \"Age structure - 55-64 years\",\n",
    "                \"People and Society: Median age - total\" : \"Total Median age\",\n",
    "                \"People and Society: Median age - male\" : \"Male Median age\",\n",
    "                \"People and Society: Median age - female\" : \"Female Median age\",\n",
    "                \"People and Society: Population growth rate\" : \"Population growth rate\",\n",
    "                \"People and Society: Birth rate\" : \"Birth rate\",\n",
    "                \"People and Society: Death rate\" : \"Death rate\",\n",
    "                \"People and Society: Net migration rate\" : \"Net migration rate\",\n",
    "                \"People and Society: Urbanization - urban population\" : \"Urban Population\",\n",
    "                \"People and Society: Sex ratio - at birth\" : \"Sex ratio at Birth\",\n",
    "                \"People and Society: Sex ratio - 65 years and over\" : \"65 & Older Sex Ratio\",\n",
    "                \"People and Society: Sex ratio - total population\" : \"Total Pop Sex Ratio\",\n",
    "                \"People and Society: Infant mortality rate - total\" : \"Total Infant Mortality Rate\",\n",
    "                \"People and Society: Life expectancy at birth - total population\" : \"Total Pop Life expectancy at birth\",\n",
    "                \"People and Society: Life expectancy at birth - male\" : \"Male Life expectancy at birth\",\n",
    "                \"People and Society: Life expectancy at birth - female\" : \"Female Life expectancy at birth\",\n",
    "                \"People and Society: Total fertility rate\" : \"Total fertility rate\",\n",
    "                \"People and Society: Obesity - adult prevalence rate\" : \"Adult Obesity Prev Rate\",\n",
    "                \"People and Society: Tobacco use - total\" : \"Total Tobacco use\",\n",
    "                \"Communications: Internet users - total\" : \"Total Internet Users\",\n",
    "                \"Communications: Internet users - percent of population\" : \"Internet users - % of Pop\",\n",
    "                \"Military and Security: Military expenditures\" : \"Military expenditures\",\n",
    "                \"Military and Security: Military service age and obligation\" : \"Military service age and obligation\"})\n",
    "\n"
   ]
  },
  {
   "cell_type": "code",
   "execution_count": 7,
   "id": "586449a8",
   "metadata": {},
   "outputs": [
    {
     "data": {
      "text/html": [
       "<div>\n",
       "<style scoped>\n",
       "    .dataframe tbody tr th:only-of-type {\n",
       "        vertical-align: middle;\n",
       "    }\n",
       "\n",
       "    .dataframe tbody tr th {\n",
       "        vertical-align: top;\n",
       "    }\n",
       "\n",
       "    .dataframe thead th {\n",
       "        text-align: right;\n",
       "    }\n",
       "</style>\n",
       "<table border=\"1\" class=\"dataframe\">\n",
       "  <thead>\n",
       "    <tr style=\"text-align: right;\">\n",
       "      <th></th>\n",
       "      <th>Country</th>\n",
       "      <th>Geographic coordinates</th>\n",
       "      <th>Map references</th>\n",
       "      <th>Geography: Area - total</th>\n",
       "      <th>Real GDP</th>\n",
       "      <th>GDP Growth Rate</th>\n",
       "      <th>GDP per Capita</th>\n",
       "      <th>Econ Current Acct Bal</th>\n",
       "      <th>Exports</th>\n",
       "      <th>Exports - Partners</th>\n",
       "      <th>...</th>\n",
       "      <th>Female Life expectancy at birth</th>\n",
       "      <th>Total fertility rate</th>\n",
       "      <th>Adult Obesity Prev Rate</th>\n",
       "      <th>Total Tobacco use</th>\n",
       "      <th>Total Internet Users</th>\n",
       "      <th>Internet users - % of Pop</th>\n",
       "      <th>Military expenditures</th>\n",
       "      <th>Military service age and obligation</th>\n",
       "      <th>Terrorism: Terrorist group(s)</th>\n",
       "      <th>Military and Security: Military - note</th>\n",
       "    </tr>\n",
       "  </thead>\n",
       "  <tbody>\n",
       "    <tr>\n",
       "      <th>10</th>\n",
       "      <td>Argentina</td>\n",
       "      <td>34 00 S, 64 00 W</td>\n",
       "      <td>South America</td>\n",
       "      <td>2,780,400 sq km</td>\n",
       "      <td>$893.31 billion (2020 est.)$991.52 billion (20...</td>\n",
       "      <td>-2.03% (2019 est.)-2.53% (2018 est.)2.83% (201...</td>\n",
       "      <td>$19,700 (2020 est.)$22,100 (2019 est.)$22,800 ...</td>\n",
       "      <td>-$3.997 billion (2019 est.)-$27.049 billion (2...</td>\n",
       "      <td>$64.18 billion (2020 est.) note: data are in c...</td>\n",
       "      <td>Brazil 16%, China 11%, United States 7%, Chile...</td>\n",
       "      <td>...</td>\n",
       "      <td>81.59 years (2022 est.)</td>\n",
       "      <td>2.18 children born/woman (2022 est.)</td>\n",
       "      <td>28.3% (2016)</td>\n",
       "      <td>24.5% (2020 est.)</td>\n",
       "      <td>39,024,016 (2020 est.)</td>\n",
       "      <td>86% (2020 est.)</td>\n",
       "      <td>0.8% of GDP (2021 est.)0.8% of GDP (2020)0.7% ...</td>\n",
       "      <td>18-24 years of age for voluntary military serv...</td>\n",
       "      <td>Hizballah</td>\n",
       "      <td>Argentina has Major Non-NATO Ally (MNNA) statu...</td>\n",
       "    </tr>\n",
       "    <tr>\n",
       "      <th>15</th>\n",
       "      <td>Austria</td>\n",
       "      <td>47 20 N, 13 20 E</td>\n",
       "      <td>Europe</td>\n",
       "      <td>83,871 sq km</td>\n",
       "      <td>$463.12 billion (2020 est.)$495.8 billion (201...</td>\n",
       "      <td>1.42% (2019 est.)2.58% (2018 est.)2.4% (2017 e...</td>\n",
       "      <td>$51,900 (2020 est.)$55,800 (2019 est.)$55,300 ...</td>\n",
       "      <td>$12.667 billion (2019 est.)$5.989 billion (201...</td>\n",
       "      <td>$226.79 billion (2020 est.) note: data are in ...</td>\n",
       "      <td>Germany 28%, United States 7%, Italy 6%, Switz...</td>\n",
       "      <td>...</td>\n",
       "      <td>85.04 years (2022 est.)</td>\n",
       "      <td>1.51 children born/woman (2022 est.)</td>\n",
       "      <td>20.1% (2016)</td>\n",
       "      <td>26.4% (2020 est.)</td>\n",
       "      <td>7,846,840 (2020 est.)</td>\n",
       "      <td>88% (2020 est.)</td>\n",
       "      <td>0.9% of GDP (2021 est.)0.7% of GDP (2020 est.)...</td>\n",
       "      <td>registration requirement at age 17, the legal ...</td>\n",
       "      <td>Islamic State of Iraq and ash-Sham (ISIS)</td>\n",
       "      <td>Austria is constitutionally non-aligned, but i...</td>\n",
       "    </tr>\n",
       "  </tbody>\n",
       "</table>\n",
       "<p>2 rows × 51 columns</p>\n",
       "</div>"
      ],
      "text/plain": [
       "      Country Geographic coordinates Map references Geography: Area - total  \\\n",
       "10  Argentina       34 00 S, 64 00 W  South America         2,780,400 sq km   \n",
       "15    Austria       47 20 N, 13 20 E         Europe            83,871 sq km   \n",
       "\n",
       "                                             Real GDP  \\\n",
       "10  $893.31 billion (2020 est.)$991.52 billion (20...   \n",
       "15  $463.12 billion (2020 est.)$495.8 billion (201...   \n",
       "\n",
       "                                      GDP Growth Rate  \\\n",
       "10  -2.03% (2019 est.)-2.53% (2018 est.)2.83% (201...   \n",
       "15  1.42% (2019 est.)2.58% (2018 est.)2.4% (2017 e...   \n",
       "\n",
       "                                       GDP per Capita  \\\n",
       "10  $19,700 (2020 est.)$22,100 (2019 est.)$22,800 ...   \n",
       "15  $51,900 (2020 est.)$55,800 (2019 est.)$55,300 ...   \n",
       "\n",
       "                                Econ Current Acct Bal  \\\n",
       "10  -$3.997 billion (2019 est.)-$27.049 billion (2...   \n",
       "15  $12.667 billion (2019 est.)$5.989 billion (201...   \n",
       "\n",
       "                                              Exports  \\\n",
       "10  $64.18 billion (2020 est.) note: data are in c...   \n",
       "15  $226.79 billion (2020 est.) note: data are in ...   \n",
       "\n",
       "                                   Exports - Partners  ...  \\\n",
       "10  Brazil 16%, China 11%, United States 7%, Chile...  ...   \n",
       "15  Germany 28%, United States 7%, Italy 6%, Switz...  ...   \n",
       "\n",
       "   Female Life expectancy at birth                  Total fertility rate  \\\n",
       "10         81.59 years (2022 est.)  2.18 children born/woman (2022 est.)   \n",
       "15         85.04 years (2022 est.)  1.51 children born/woman (2022 est.)   \n",
       "\n",
       "   Adult Obesity Prev Rate  Total Tobacco use    Total Internet Users  \\\n",
       "10            28.3% (2016)  24.5% (2020 est.)  39,024,016 (2020 est.)   \n",
       "15            20.1% (2016)  26.4% (2020 est.)   7,846,840 (2020 est.)   \n",
       "\n",
       "   Internet users - % of Pop  \\\n",
       "10           86% (2020 est.)   \n",
       "15           88% (2020 est.)   \n",
       "\n",
       "                                Military expenditures  \\\n",
       "10  0.8% of GDP (2021 est.)0.8% of GDP (2020)0.7% ...   \n",
       "15  0.9% of GDP (2021 est.)0.7% of GDP (2020 est.)...   \n",
       "\n",
       "                  Military service age and obligation  \\\n",
       "10  18-24 years of age for voluntary military serv...   \n",
       "15  registration requirement at age 17, the legal ...   \n",
       "\n",
       "                Terrorism: Terrorist group(s)  \\\n",
       "10                                  Hizballah   \n",
       "15  Islamic State of Iraq and ash-Sham (ISIS)   \n",
       "\n",
       "               Military and Security: Military - note  \n",
       "10  Argentina has Major Non-NATO Ally (MNNA) statu...  \n",
       "15  Austria is constitutionally non-aligned, but i...  \n",
       "\n",
       "[2 rows x 51 columns]"
      ]
     },
     "execution_count": 7,
     "metadata": {},
     "output_type": "execute_result"
    }
   ],
   "source": [
    "#check results\n",
    "#df_a.columns.tolist()\n",
    "df_a.head(2)"
   ]
  },
  {
   "cell_type": "code",
   "execution_count": 8,
   "id": "c431a27e",
   "metadata": {},
   "outputs": [],
   "source": [
    "#change geo coordinate to lat and long columns\n",
    "df_a[[\"LATITUDE\", \"LONGITUDE\"]] = df_a[\"Geographic coordinates\"].str.split(\",\", expand = True)\n",
    "\n",
    "#check result\n",
    "#df_a[\"LATITUDE\"]\n",
    "#df_a[\"LONGITUDE\"]\n",
    "#df_a.columns.tolist()"
   ]
  },
  {
   "cell_type": "markdown",
   "id": "acd989f3",
   "metadata": {},
   "source": [
    "## Clean GDP Columns [Real GDP]"
   ]
  },
  {
   "cell_type": "code",
   "execution_count": 9,
   "id": "1a41e6bf",
   "metadata": {},
   "outputs": [
    {
     "name": "stderr",
     "output_type": "stream",
     "text": [
      "/Users/laurenerminina/opt/anaconda3/envs/PythonData/envs/PythonData/lib/python3.7/site-packages/ipykernel_launcher.py:5: FutureWarning: The default value of regex will change from True to False in a future version. In addition, single character regular expressions will *not* be treated as literal strings when regex=True.\n",
      "  \"\"\"\n"
     ]
    }
   ],
   "source": [
    "# slice to make 2019 real GDP column\n",
    "df_a[\"2020 Real GDP\"] = df_a[\"Real GDP\"].str[:15]\n",
    "\n",
    "#remove $ from new column\n",
    "df_a[\"2020 Real GDP\"] = df_a[\"2020 Real GDP\"].str.replace(\"$\", \"\")\n",
    "\n",
    "#remove billion\n",
    "df_a[\"2020 Real GDP\"] = df_a[\"2020 Real GDP\"].str.replace(\"billion\", \"\")\n",
    "\n",
    "#remove comma\n",
    "df_a[\"2020 Real GDP\"] = df_a[\"2020 Real GDP\"].str.replace(\",\", \"\")\n",
    "\n",
    "#check result\n",
    "#print(df_a[\"2020 Real GDP\"])"
   ]
  },
  {
   "cell_type": "code",
   "execution_count": 10,
   "id": "510e3ba1",
   "metadata": {},
   "outputs": [
    {
     "name": "stderr",
     "output_type": "stream",
     "text": [
      "/Users/laurenerminina/opt/anaconda3/envs/PythonData/envs/PythonData/lib/python3.7/site-packages/ipykernel_launcher.py:5: FutureWarning: The default value of regex will change from True to False in a future version. In addition, single character regular expressions will *not* be treated as literal strings when regex=True.\n",
      "  \"\"\"\n",
      "/Users/laurenerminina/opt/anaconda3/envs/PythonData/envs/PythonData/lib/python3.7/site-packages/ipykernel_launcher.py:14: FutureWarning: The default value of regex will change from True to False in a future version.\n",
      "  \n",
      "/Users/laurenerminina/opt/anaconda3/envs/PythonData/envs/PythonData/lib/python3.7/site-packages/ipykernel_launcher.py:17: FutureWarning: The default value of regex will change from True to False in a future version.\n",
      "/Users/laurenerminina/opt/anaconda3/envs/PythonData/envs/PythonData/lib/python3.7/site-packages/ipykernel_launcher.py:20: FutureWarning: The default value of regex will change from True to False in a future version.\n"
     ]
    }
   ],
   "source": [
    "# slice to make 2019 real GDP column\n",
    "df_a[\"2019 Real GDP\"] = df_a[\"Real GDP\"].str[28:48]\n",
    "\n",
    "#remove $ from new column\n",
    "df_a[\"2019 Real GDP\"] = df_a[\"2019 Real GDP\"].str.replace(\"$\", \"\")\n",
    "\n",
    "#remove billion\n",
    "df_a[\"2019 Real GDP\"] = df_a[\"2019 Real GDP\"].str.replace(\"billion\", \"\")\n",
    "\n",
    "# #remove comma\n",
    "df_a[\"2019 Real GDP\"] = df_a[\"2019 Real GDP\"].str.replace(\",\", \"\")\n",
    "\n",
    "# remove (2019)\n",
    "df_a[\"2019 Real GDP\"] = df_a[\"2019 Real GDP\"].str.replace(\"\\(2019\", \"\")\n",
    "\n",
    "#remove remove letters\n",
    "df_a[\"2019 Real GDP\"] = df_a[\"2019 Real GDP\"].str.replace(\"[t, e]\", \"\") \n",
    "\n",
    "# remove )\n",
    "df_a[\"2019 Real GDP\"] = df_a[\"2019 Real GDP\"].str.replace(\".\\)\", \"\")\n",
    "\n",
    "#check result\n",
    "#print(df_a[\"2019 Real GDP\"])"
   ]
  },
  {
   "cell_type": "code",
   "execution_count": 11,
   "id": "ec80eb22",
   "metadata": {},
   "outputs": [
    {
     "name": "stderr",
     "output_type": "stream",
     "text": [
      "/Users/laurenerminina/opt/anaconda3/envs/PythonData/envs/PythonData/lib/python3.7/site-packages/ipykernel_launcher.py:5: FutureWarning: The default value of regex will change from True to False in a future version. In addition, single character regular expressions will *not* be treated as literal strings when regex=True.\n",
      "  \"\"\"\n",
      "/Users/laurenerminina/opt/anaconda3/envs/PythonData/envs/PythonData/lib/python3.7/site-packages/ipykernel_launcher.py:17: FutureWarning: The default value of regex will change from True to False in a future version.\n",
      "/Users/laurenerminina/opt/anaconda3/envs/PythonData/envs/PythonData/lib/python3.7/site-packages/ipykernel_launcher.py:20: FutureWarning: The default value of regex will change from True to False in a future version.\n",
      "/Users/laurenerminina/opt/anaconda3/envs/PythonData/envs/PythonData/lib/python3.7/site-packages/ipykernel_launcher.py:23: FutureWarning: The default value of regex will change from True to False in a future version.\n"
     ]
    }
   ],
   "source": [
    "# slice to make 2018 real GDP column\n",
    "df_a[\"2018 Real GDP\"] = df_a[\"Real GDP\"].str[52:]\n",
    "\n",
    "#remove $ from new column\n",
    "df_a[\"2018 Real GDP\"] = df_a[\"2018 Real GDP\"].str.replace(\"$\", \"\")\n",
    "\n",
    "# #remove billion\n",
    "df_a[\"2018 Real GDP\"] = df_a[\"2018 Real GDP\"].str.replace(\"billion\", \"\")\n",
    "\n",
    "# # #remove comma\n",
    "df_a[\"2018 Real GDP\"] = df_a[\"2018 Real GDP\"].str.replace(\",\", \"\")\n",
    "\n",
    "#remove comma\n",
    "df_a[\"2018 Real GDP\"] = df_a[\"2018 Real GDP\"].str.replace(\",\", \"\")\n",
    "\n",
    "#remove 18.)\n",
    "df_a[\"2018 Real GDP\"] = df_a[\"2018 Real GDP\"].str.replace(\"2018 est.\\)\", \"\")\n",
    "\n",
    "#remove right facing ( paren\n",
    "df_a[\"2018 Real GDP\"] = df_a[\"2018 Real GDP\"].str.replace(\"\\(\", \"\")\n",
    "\n",
    "#remove .) \n",
    "df_a[\"2018 Real GDP\"] = df_a[\"2018 Real GDP\"].str.replace(\"[\\., \\)]\", \"\")\n",
    "\n",
    "#check result\n",
    "#print(df_a[\"2018 Real GDP\"])"
   ]
  },
  {
   "cell_type": "code",
   "execution_count": 12,
   "id": "4e7e3ec7",
   "metadata": {},
   "outputs": [],
   "source": [
    "# create new DF and drop original column\n",
    "df_b = df_a.drop([\"Real GDP\"], axis = 1)\n",
    "\n",
    "#check result\n",
    "#df_b.columns.tolist()"
   ]
  },
  {
   "cell_type": "markdown",
   "id": "87aed2a7",
   "metadata": {},
   "source": [
    "## Clean GDP Columns [GDP Growth Rate]"
   ]
  },
  {
   "cell_type": "code",
   "execution_count": 13,
   "id": "fcf103c1",
   "metadata": {},
   "outputs": [
    {
     "name": "stderr",
     "output_type": "stream",
     "text": [
      "/Users/laurenerminina/opt/anaconda3/envs/PythonData/envs/PythonData/lib/python3.7/site-packages/ipykernel_launcher.py:8: FutureWarning: The default value of regex will change from True to False in a future version.\n",
      "  \n",
      "/Users/laurenerminina/opt/anaconda3/envs/PythonData/envs/PythonData/lib/python3.7/site-packages/ipykernel_launcher.py:11: FutureWarning: The default value of regex will change from True to False in a future version.\n",
      "  # This is added back by InteractiveShellApp.init_path()\n"
     ]
    }
   ],
   "source": [
    "# split sting for  2019 GDP Growth Rate\n",
    "df_b[\"GDP Growth Rate Est 1 (in %)\"] = df_b[\"GDP Growth Rate\"].str[:15]\n",
    "\n",
    "#remove the %\n",
    "df_b[\"GDP Growth Rate Est 1 (in %)\"] = df_b[\"GDP Growth Rate Est 1 (in %)\"].str.replace(\"%\", \"\")\n",
    "\n",
    "#replace ( with space to split columns in 2nd cleaning\n",
    "df_b[\"GDP Growth Rate Est 1 (in %)\"] = df_b[\"GDP Growth Rate Est 1 (in %)\"].str.replace(\"\\(\", \" \")\n",
    "\n",
    "# remove letters (replace with space to remove stray items in second cleaning)\n",
    "df_b[\"GDP Growth Rate Est 1 (in %)\"] = df_b[\"GDP Growth Rate Est 1 (in %)\"].str.replace(\"[e, s, t)]\", \" \")\n",
    "\n",
    "#check result\n",
    "#df_b[\"GDP Growth Rate Est 1 (in %)\"]\n",
    "\n",
    "## note: clean leading and trailing items in second cleaning"
   ]
  },
  {
   "cell_type": "code",
   "execution_count": 14,
   "id": "8ad11aa3",
   "metadata": {},
   "outputs": [
    {
     "name": "stderr",
     "output_type": "stream",
     "text": [
      "/Users/laurenerminina/opt/anaconda3/envs/PythonData/envs/PythonData/lib/python3.7/site-packages/ipykernel_launcher.py:7: FutureWarning: The default value of regex will change from True to False in a future version.\n",
      "  import sys\n",
      "/Users/laurenerminina/opt/anaconda3/envs/PythonData/envs/PythonData/lib/python3.7/site-packages/ipykernel_launcher.py:10: FutureWarning: The default value of regex will change from True to False in a future version.\n",
      "  # Remove the CWD from sys.path while we load stuff.\n",
      "/Users/laurenerminina/opt/anaconda3/envs/PythonData/envs/PythonData/lib/python3.7/site-packages/ipykernel_launcher.py:13: FutureWarning: The default value of regex will change from True to False in a future version.\n",
      "  del sys.path[0]\n"
     ]
    }
   ],
   "source": [
    "df_b[\"GDP Growth Rate Est 2(in %)\"] = df_b[\"GDP Growth Rate\"].str[15:31]\n",
    "     \n",
    "#remove the %\n",
    "df_b[\"GDP Growth Rate Est 2(in %)\"] = df_b[\"GDP Growth Rate Est 2(in %)\"].str.replace(\"%\", \"\")     \n",
    "\n",
    "# #remove )\n",
    "df_b[\"GDP Growth Rate Est 2(in %)\"] = df_b[\"GDP Growth Rate Est 2(in %)\"].str.replace(\"\\)\", \"\")\n",
    "\n",
    "# remove letters (replace with space to remove stray items in second cleaning)\n",
    "df_b[\"GDP Growth Rate Est 2(in %)\"] = df_b[\"GDP Growth Rate Est 2(in %)\"].str.replace(\"[e, s, t)]\", \" \")\n",
    "\n",
    "#replace ( with space to split columns in 2nd cleaning\n",
    "df_b[\"GDP Growth Rate Est 2(in %)\"] = df_b[\"GDP Growth Rate Est 2(in %)\"].str.replace(\"\\(\", \" \")\n",
    "\n",
    "#check result\n",
    "#df_b[\"GDP Growth Rate Est 2(in %)\"] \n",
    "\n",
    "## note: clean leading and trailing items in second cleaning"
   ]
  },
  {
   "cell_type": "code",
   "execution_count": 15,
   "id": "33a15e65",
   "metadata": {},
   "outputs": [
    {
     "name": "stderr",
     "output_type": "stream",
     "text": [
      "/Users/laurenerminina/opt/anaconda3/envs/PythonData/envs/PythonData/lib/python3.7/site-packages/ipykernel_launcher.py:7: FutureWarning: The default value of regex will change from True to False in a future version.\n",
      "  import sys\n",
      "/Users/laurenerminina/opt/anaconda3/envs/PythonData/envs/PythonData/lib/python3.7/site-packages/ipykernel_launcher.py:13: FutureWarning: The default value of regex will change from True to False in a future version.\n",
      "  del sys.path[0]\n",
      "/Users/laurenerminina/opt/anaconda3/envs/PythonData/envs/PythonData/lib/python3.7/site-packages/ipykernel_launcher.py:16: FutureWarning: The default value of regex will change from True to False in a future version.\n",
      "  app.launch_new_instance()\n"
     ]
    }
   ],
   "source": [
    "df_b[\"GDP Growth Rate Est 3(in %)\"] = df_b[\"GDP Growth Rate\"].str[32:]\n",
    "\n",
    "#remove the %\n",
    "df_b[\"GDP Growth Rate Est 3(in %)\"] = df_b[\"GDP Growth Rate Est 3(in %)\"].str.replace(\"%\", \"\")\n",
    "\n",
    "# #remove )\n",
    "df_b[\"GDP Growth Rate Est 3(in %)\"] = df_b[\"GDP Growth Rate Est 3(in %)\"].str.replace(\"\\)\", \"\")\n",
    "\n",
    "#remove t\n",
    "df_b[\"GDP Growth Rate Est 3(in %)\"] = df_b[\"GDP Growth Rate Est 3(in %)\"].str.replace(\"t\", \"\")\n",
    "\n",
    "# remove letters (replace with space to remove stray items in second cleaning)\n",
    "df_b[\"GDP Growth Rate Est 3(in %)\"] = df_b[\"GDP Growth Rate Est 3(in %)\"].str.replace(\"[e, s)]\", \"\")\n",
    "\n",
    "#remove ( \n",
    "df_b[\"GDP Growth Rate Est 3(in %)\"] = df_b[\"GDP Growth Rate Est 3(in %)\"].str.replace(\"\\(\", \" \")\n",
    "\n",
    "#check result\n",
    "#df_b[\"GDP Growth Rate Est 3(in %)\"]\n",
    "\n",
    "## note: clean leading and trailing items in second cleaning"
   ]
  },
  {
   "cell_type": "code",
   "execution_count": 16,
   "id": "f8d97f12",
   "metadata": {},
   "outputs": [],
   "source": [
    "#check columns\n",
    "#df_b.columns.tolist()"
   ]
  },
  {
   "cell_type": "code",
   "execution_count": 17,
   "id": "8ce829ce",
   "metadata": {},
   "outputs": [],
   "source": [
    "#drop GDP Growth Rate'\n",
    "df_c = df_b.drop([\"GDP Growth Rate\"], axis = 1)"
   ]
  },
  {
   "cell_type": "markdown",
   "id": "91ca7376",
   "metadata": {},
   "source": [
    "## Clean GDP Columns [GDP Per Capita]"
   ]
  },
  {
   "cell_type": "code",
   "execution_count": 18,
   "id": "944458b0",
   "metadata": {},
   "outputs": [
    {
     "name": "stderr",
     "output_type": "stream",
     "text": [
      "/Users/laurenerminina/opt/anaconda3/envs/PythonData/envs/PythonData/lib/python3.7/site-packages/ipykernel_launcher.py:3: FutureWarning: The default value of regex will change from True to False in a future version.\n",
      "  This is separate from the ipykernel package so we can avoid doing imports until\n",
      "/Users/laurenerminina/opt/anaconda3/envs/PythonData/envs/PythonData/lib/python3.7/site-packages/ipykernel_launcher.py:10: FutureWarning: The default value of regex will change from True to False in a future version.\n",
      "  # Remove the CWD from sys.path while we load stuff.\n"
     ]
    }
   ],
   "source": [
    "#GDP per capita - 2020 column\n",
    "#remove $ from original column\n",
    "df_c[\"GDP per Capita\"] = df_c[\"GDP per Capita\"].str.replace(\"[$]\", \" \")\n",
    "\n",
    "\n",
    "# slice for GDP per Capita est 2020\n",
    "df_c[\"GDP per Capita Est 2020 (in $)\"] = df_c[\"GDP per Capita\"].str[:8]\n",
    "\n",
    "#remove the  (\n",
    "df_c[\"GDP per Capita Est 2020 (in $)\"] = df_c[\"GDP per Capita Est 2020 (in $)\"].str.replace(\"[,\\(]\", \"\")\n",
    "\n",
    "#check results\n",
    "#df_c[\"GDP per Capita Est 2020 (in $)\"]"
   ]
  },
  {
   "cell_type": "code",
   "execution_count": 19,
   "id": "bcc2a7bd",
   "metadata": {},
   "outputs": [
    {
     "name": "stderr",
     "output_type": "stream",
     "text": [
      "/Users/laurenerminina/opt/anaconda3/envs/PythonData/envs/PythonData/lib/python3.7/site-packages/ipykernel_launcher.py:5: FutureWarning: The default value of regex will change from True to False in a future version.\n",
      "  \"\"\"\n"
     ]
    }
   ],
   "source": [
    "# slice for GDP per Capita est 2019\n",
    "df_c[\"GDP per Capita Est 2019 (in $)\"] = df_c[\"GDP per Capita\"].str[19:26]\n",
    "\n",
    "#remove the  ( and comma\n",
    "df_c[\"GDP per Capita Est 2019 (in $)\"] = df_c[\"GDP per Capita Est 2019 (in $)\"].str.replace(\"[,\\(]\", \"\")\n",
    "\n",
    "#check results\n",
    "#df_c[\"GDP per Capita Est 2019 (in $)\"]"
   ]
  },
  {
   "cell_type": "code",
   "execution_count": 20,
   "id": "9f3cae3f",
   "metadata": {},
   "outputs": [
    {
     "name": "stderr",
     "output_type": "stream",
     "text": [
      "/Users/laurenerminina/opt/anaconda3/envs/PythonData/envs/PythonData/lib/python3.7/site-packages/ipykernel_launcher.py:6: FutureWarning: The default value of regex will change from True to False in a future version.\n",
      "  \n"
     ]
    }
   ],
   "source": [
    "# slice for GDP per Capita est 2018\n",
    "df_c[\"GDP per Capita Est 2018\"] = df_c[\"GDP per Capita\"].str[37:45]\n",
    "\n",
    "\n",
    "# #remove the .)\n",
    "df_c[\"GDP per Capita Est 2018\"] = df_c[\"GDP per Capita Est 2018\"].str.replace(\"\\)\", \"\")\n",
    "\n",
    "#check result\n",
    "#df_c[\"GDP per Capita Est 2018\"] \n",
    "\n",
    "## remove trailing (2 in second cleaning"
   ]
  },
  {
   "cell_type": "code",
   "execution_count": 21,
   "id": "acd1dace",
   "metadata": {},
   "outputs": [],
   "source": [
    "#check columns\n",
    "#df_c.columns.tolist()"
   ]
  },
  {
   "cell_type": "markdown",
   "id": "8386afe5",
   "metadata": {},
   "source": [
    "## Clean Economy Columns (Current Acct Bal)"
   ]
  },
  {
   "cell_type": "code",
   "execution_count": 22,
   "id": "d1a64716",
   "metadata": {},
   "outputs": [
    {
     "name": "stderr",
     "output_type": "stream",
     "text": [
      "/Users/laurenerminina/opt/anaconda3/envs/PythonData/envs/PythonData/lib/python3.7/site-packages/ipykernel_launcher.py:5: FutureWarning: The default value of regex will change from True to False in a future version.\n",
      "  \"\"\"\n",
      "/Users/laurenerminina/opt/anaconda3/envs/PythonData/envs/PythonData/lib/python3.7/site-packages/ipykernel_launcher.py:8: FutureWarning: The default value of regex will change from True to False in a future version.\n",
      "  \n"
     ]
    }
   ],
   "source": [
    "#create slice for Econ Current Acct Bal\n",
    "df_c[\"Econ: Current Acct Bal Est 1\"] = df_c[\"Econ Current Acct Bal\"].str[:23]\n",
    "\n",
    "# #remove ) and replace with _ to split later\n",
    "df_c[\"Econ: Current Acct Bal Est 1\"]= df_c[\"Econ: Current Acct Bal Est 1\"].str.replace(\"\\(\", \"_\")\n",
    "\n",
    "# remove letters (replace with space to remove stray items in second cleaning)\n",
    "df_c[\"Econ: Current Acct Bal Est 1\"]= df_c[\"Econ: Current Acct Bal Est 1\"].str.replace(\"[e, s, t, b, m, i, l, o, n)]\", \"\")\n",
    "\n",
    "#check result\n",
    "#df_c[\"Econ: Current Acct Bal Est 1\"]\n",
    "\n",
    "## split value and year in 2nd cleaning"
   ]
  },
  {
   "cell_type": "code",
   "execution_count": 23,
   "id": "2aab3255",
   "metadata": {},
   "outputs": [
    {
     "name": "stderr",
     "output_type": "stream",
     "text": [
      "/Users/laurenerminina/opt/anaconda3/envs/PythonData/envs/PythonData/lib/python3.7/site-packages/ipykernel_launcher.py:5: FutureWarning: The default value of regex will change from True to False in a future version. In addition, single character regular expressions will *not* be treated as literal strings when regex=True.\n",
      "  \"\"\"\n",
      "/Users/laurenerminina/opt/anaconda3/envs/PythonData/envs/PythonData/lib/python3.7/site-packages/ipykernel_launcher.py:8: FutureWarning: The default value of regex will change from True to False in a future version.\n",
      "  \n",
      "/Users/laurenerminina/opt/anaconda3/envs/PythonData/envs/PythonData/lib/python3.7/site-packages/ipykernel_launcher.py:11: FutureWarning: The default value of regex will change from True to False in a future version.\n",
      "  # This is added back by InteractiveShellApp.init_path()\n"
     ]
    }
   ],
   "source": [
    "#create slice for Econ Current Acct Bal Est 2\n",
    "df_c[\"Econ: Current Acct Bal Est 2\"] = df_c[\"Econ Current Acct Bal\"].str[27:]\n",
    "\n",
    "# #remove ) and replace with _ to split later\n",
    "df_c[\"Econ: Current Acct Bal Est 2\"]= df_c[\"Econ: Current Acct Bal Est 2\"].str.replace(\"$\", \"\")\n",
    "\n",
    "# #remove ) and replace with _ to split later\n",
    "df_c[\"Econ: Current Acct Bal Est 2\"]= df_c[\"Econ: Current Acct Bal Est 2\"].str.replace(\"[\\(]\", \"__\")\n",
    "\n",
    "# remove letters (replace with space to remove stray items in second cleaning)\n",
    "df_c[\"Econ: Current Acct Bal Est 2\"]= df_c[\"Econ: Current Acct Bal Est 2\"].str.replace(\"[e, s, t, b, m, i, l, o, n)]\", \"\")\n",
    "\n",
    "#check result\n",
    "#df_c[\"Econ: Current Acct Bal Est 2\"]\n",
    "\n",
    "## 2nd cleaning: split value and year into separate columns, remove the leading amount in #114, remove trailing period after the year"
   ]
  },
  {
   "cell_type": "code",
   "execution_count": 24,
   "id": "6afdfbae",
   "metadata": {},
   "outputs": [],
   "source": [
    "#check progress\n",
    "#df_c.head()\n",
    "#df_c.columns.tolist()"
   ]
  },
  {
   "cell_type": "markdown",
   "id": "d1a56fea",
   "metadata": {},
   "source": [
    "## Cleaning Export Info"
   ]
  },
  {
   "cell_type": "code",
   "execution_count": 25,
   "id": "27889f6a",
   "metadata": {},
   "outputs": [
    {
     "name": "stderr",
     "output_type": "stream",
     "text": [
      "/Users/laurenerminina/opt/anaconda3/envs/PythonData/envs/PythonData/lib/python3.7/site-packages/ipykernel_launcher.py:2: FutureWarning: The default value of regex will change from True to False in a future version. In addition, single character regular expressions will *not* be treated as literal strings when regex=True.\n",
      "  \n"
     ]
    }
   ],
   "source": [
    "#remove $ from original column\n",
    "df_c[\"Exports\"] = df_c[\"Exports\"].str.replace(\"$\", \"\")"
   ]
  },
  {
   "cell_type": "code",
   "execution_count": 26,
   "id": "1f295728",
   "metadata": {},
   "outputs": [
    {
     "name": "stderr",
     "output_type": "stream",
     "text": [
      "/Users/laurenerminina/opt/anaconda3/envs/PythonData/envs/PythonData/lib/python3.7/site-packages/ipykernel_launcher.py:5: FutureWarning: The default value of regex will change from True to False in a future version.\n",
      "  \"\"\"\n",
      "/Users/laurenerminina/opt/anaconda3/envs/PythonData/envs/PythonData/lib/python3.7/site-packages/ipykernel_launcher.py:8: FutureWarning: The default value of regex will change from True to False in a future version.\n",
      "  \n"
     ]
    }
   ],
   "source": [
    "#create slice for export est 1\n",
    "df_c[\"Exports Est 1\"] = df_c[\"Exports\"].str[:26]\n",
    "\n",
    "#remove lettters\n",
    "df_c[\"Exports Est 1\"] =df_c[\"Exports Est 1\"].str.replace(\"[e, s, t, b, m, i, l, o, n)]\", \"\")\n",
    "\n",
    "# #remove ) \n",
    "df_c[\"Exports Est 1\"] =df_c[\"Exports Est 1\"].str.replace(\"[\\(]\", \" \")\n",
    "\n",
    "#check results\n",
    "#df_c[\"Exports Est 1\"]\n",
    "#second cleaning: split columns by value and year, remove trailing periods, format #'s to be consistent"
   ]
  },
  {
   "cell_type": "code",
   "execution_count": 27,
   "id": "58c76560",
   "metadata": {},
   "outputs": [
    {
     "name": "stderr",
     "output_type": "stream",
     "text": [
      "/Users/laurenerminina/opt/anaconda3/envs/PythonData/envs/PythonData/lib/python3.7/site-packages/ipykernel_launcher.py:5: FutureWarning: The default value of regex will change from True to False in a future version.\n",
      "  \"\"\"\n",
      "/Users/laurenerminina/opt/anaconda3/envs/PythonData/envs/PythonData/lib/python3.7/site-packages/ipykernel_launcher.py:8: FutureWarning: The default value of regex will change from True to False in a future version.\n",
      "  \n"
     ]
    }
   ],
   "source": [
    "#create slice for export est 2\n",
    "df_c[\"Exports Est 2\"] = df_c[\"Exports\"].str[63:91]\n",
    "\n",
    "#remove lettters\n",
    "df_c[\"Exports Est 2\"]=df_c[\"Exports Est 2\"].str.replace(\"[e, s, t, b, m, i, l, o, n, r, a)]\", \"\")\n",
    "\n",
    "# #remove ) \n",
    "df_c[\"Exports Est 2\"]=df_c[\"Exports Est 2\"].str.replace(\"[\\(]\", \" \")\n",
    "\n",
    "#check results\n",
    "#df_c[\"Exports Est 2\"]\n",
    "\n",
    "#second cleaning: split columns by value and year, remove trailing periods, format #'s to be consistent"
   ]
  },
  {
   "cell_type": "code",
   "execution_count": 28,
   "id": "8aed2caa",
   "metadata": {},
   "outputs": [],
   "source": [
    "#make slice for top export partner column\n",
    "df_c[\"Top Export Partner- Country and %\"] = df_c[\"Exports - Partners\"].str[:15]\n",
    "\n",
    "#check result\n",
    "#df_c[\"Top Export Partner- Country and %\"]\n",
    "\n",
    "# Second cleaning split columns to show country and %"
   ]
  },
  {
   "cell_type": "code",
   "execution_count": 30,
   "id": "6e654190",
   "metadata": {},
   "outputs": [],
   "source": [
    "#check results\n",
    "#df_c.columns.tolist()"
   ]
  },
  {
   "cell_type": "code",
   "execution_count": 44,
   "id": "8b0d284e",
   "metadata": {},
   "outputs": [
    {
     "name": "stderr",
     "output_type": "stream",
     "text": [
      "/Users/laurenerminina/opt/anaconda3/envs/PythonData/envs/PythonData/lib/python3.7/site-packages/ipykernel_launcher.py:4: FutureWarning: The default value of regex will change from True to False in a future version. In addition, single character regular expressions will *not* be treated as literal strings when regex=True.\n",
      "  after removing the cwd from sys.path.\n",
      "/Users/laurenerminina/opt/anaconda3/envs/PythonData/envs/PythonData/lib/python3.7/site-packages/ipykernel_launcher.py:10: FutureWarning: The default value of regex will change from True to False in a future version.\n",
      "  # Remove the CWD from sys.path while we load stuff.\n"
     ]
    }
   ],
   "source": [
    "#foreign exchange and gold column\n",
    "\n",
    "# remove $ from original column\n",
    "df_c['Foreign Exchange & Gold'] = df_c['Foreign Exchange & Gold'].str.replace(\"$\", \" \")\n",
    "\n",
    "#create slice\n",
    "df_c[\"Foreign Exchange & Gold - Est 2017, in billions\"] = df_c['Foreign Exchange & Gold'].str[:9]\n",
    "\n",
    "#remove lettters\n",
    "df_c[\"Foreign Exchange & Gold - Est 2017, in billions\"] = df_c[\"Foreign Exchange & Gold - Est 2017, in billions\"].str.replace(\"[b, i, m, l]\", \"\")\n",
    "\n",
    "#check results\n",
    "#df_c[\"Foreign Exchange & Gold - Est 2017, in billions\"]"
   ]
  },
  {
   "cell_type": "markdown",
   "id": "988b230f",
   "metadata": {},
   "source": [
    "## Clean Population Columns"
   ]
  },
  {
   "cell_type": "code",
   "execution_count": 48,
   "id": "a71a1154",
   "metadata": {},
   "outputs": [],
   "source": [
    "#total population: electrification\n",
    "#### create slice for electic access results are on 2020/2019\n",
    "df_c[\"Total Population Electrification by % (Est 2019 - 2020)\"] = df_c[\"Tota; Population Electrication\"].str[:4]\n",
    "\n",
    "#check results\n",
    "#df_c[\"Total Population Electrification by % (Est 2019 - 2020)\"]\n",
    "\n",
    "#second cleaning remove %"
   ]
  },
  {
   "cell_type": "code",
   "execution_count": 53,
   "id": "b4cf3823",
   "metadata": {},
   "outputs": [
    {
     "name": "stderr",
     "output_type": "stream",
     "text": [
      "/Users/laurenerminina/opt/anaconda3/envs/PythonData/envs/PythonData/lib/python3.7/site-packages/ipykernel_launcher.py:6: FutureWarning: The default value of regex will change from True to False in a future version.\n",
      "  \n"
     ]
    }
   ],
   "source": [
    "#unemployment rate - recent result on record\n",
    "#took the latest metric (results are between 2017 to 2020)\n",
    "df_c[\"Unemployment Rate in % (Est 2012 - 2019)\"] = df_c[\"Unemployment Rate\"].str[:4]\n",
    "\n",
    "#remove ( \n",
    "df_c[\"Unemployment Rate in % (Est 2012 - 2019)\"] = df_c[\"Unemployment Rate in % (Est 2012 - 2019)\"].str.replace(\"[\\(]\", \" \")\n",
    "\n",
    "#check result\n",
    "#df_c[\"Unemployment Rate in % (Est 2012 - 2019)\"]\n",
    "\n",
    "#second cleaning remove %"
   ]
  },
  {
   "cell_type": "code",
   "execution_count": 57,
   "id": "b8785530",
   "metadata": {},
   "outputs": [],
   "source": [
    "#population below poverty line - recent result on record (results are between 2013 to 2019)\n",
    "df_c[\"Population Below Poverty Line in % (Est 2012 - 2019)\"] = df_c[\"Population below poverty line\"].str[:4]\n",
    "\n",
    "#check results\n",
    "#df_c[\"Population Below Poverty Line in % (Est 2012 - 2019)\"]\n",
    "\n",
    "## remove % in second cleaning"
   ]
  },
  {
   "cell_type": "code",
   "execution_count": 63,
   "id": "69d3701a",
   "metadata": {},
   "outputs": [
    {
     "name": "stderr",
     "output_type": "stream",
     "text": [
      "/Users/laurenerminina/opt/anaconda3/envs/PythonData/envs/PythonData/lib/python3.7/site-packages/ipykernel_launcher.py:5: FutureWarning: The default value of regex will change from True to False in a future version.\n",
      "  \"\"\"\n"
     ]
    }
   ],
   "source": [
    "# create slice for population below poverty line.  Only one set of results per country \n",
    "df_c[\"Percent Population Below Poverty Line - Year Recorded\"] = df_c[\"Population below poverty line\"].str[:11]\n",
    "\n",
    "# remove ( and e\n",
    "df_c[\"Percent Population Below Poverty Line - Year Recorded\"] =df_c[\"Percent Population Below Poverty Line - Year Recorded\"].str.replace(\"[\\(, e]\", \" \")\n",
    "\n",
    "# check results\n",
    "#df_c[\"Percent Population Below Poverty Line - Year Recorded\"]\n",
    "\n",
    "## second cleaning: split column for value and years"
   ]
  },
  {
   "cell_type": "code",
   "execution_count": 67,
   "id": "f8f85f7a",
   "metadata": {},
   "outputs": [],
   "source": [
    "#create slice for household income/consumption: value\n",
    "df_c[\"Household Income or Consumption by % (top 10% of population)\"] = df_c[\"Household income or consumption by % -highest 10%\"].str[:4]\n",
    "\n",
    "#check results\n",
    "#df_c[\"Household Income or Consumption by % (top 10% of population)\"] \n",
    "\n",
    "##second cleaning remove %"
   ]
  },
  {
   "cell_type": "code",
   "execution_count": 73,
   "id": "7a023b8c",
   "metadata": {},
   "outputs": [
    {
     "name": "stderr",
     "output_type": "stream",
     "text": [
      "/Users/laurenerminina/opt/anaconda3/envs/PythonData/envs/PythonData/lib/python3.7/site-packages/ipykernel_launcher.py:5: FutureWarning: The default value of regex will change from True to False in a future version.\n",
      "  \"\"\"\n"
     ]
    }
   ],
   "source": [
    "#create slice for household income/consumption: year\n",
    "df_c[\"Household Income or Consumption by (year recorded)\"] = df_c[\"Household income or consumption by % -highest 10%\"].str[5:]\n",
    "\n",
    "# remove (), .  and letters\n",
    "df_c[\"Household Income or Consumption by (year recorded)\"]  = df_c[\"Household Income or Consumption by (year recorded)\"].str.replace(\"[\\(\\), \\.\\, e, s, t]\", \"\")\n",
    "\n",
    "#check results\n",
    "#df_c[\"Household Income or Consumption by (year recorded)\"] \n",
    "\n",
    "# Second cleaning change FY2013 to 2013"
   ]
  },
  {
   "cell_type": "code",
   "execution_count": 79,
   "id": "2cf84211",
   "metadata": {},
   "outputs": [],
   "source": [
    "# create population as of 2022\n",
    "df_c[\"Population (as of 2022)\"] = df_c[\"Population\"].str[:13]\n",
    "\n",
    "#check results\n",
    "#df_c[\"Population (as of 2022)\"] \n",
    "\n",
    "# second cleaning remove trailing ( and trailing #'s"
   ]
  },
  {
   "cell_type": "code",
   "execution_count": 81,
   "id": "e00f2fe9",
   "metadata": {},
   "outputs": [],
   "source": [
    "#check columns\n",
    "#df_c.columns.tolist()"
   ]
  },
  {
   "cell_type": "code",
   "execution_count": 84,
   "id": "2ec5db20",
   "metadata": {},
   "outputs": [],
   "source": [
    "#slice for percent 14 and under\n",
    "df_c[\"Percent of Population 14 yrs and under\"] = df_c[\"Age structure - 0-14 years\"].str[:5]\n",
    "\n",
    "#check results\n",
    "#df_c[\"Percent of Population 14 yrs and under\"]"
   ]
  },
  {
   "cell_type": "code",
   "execution_count": 89,
   "id": "d745caee",
   "metadata": {},
   "outputs": [
    {
     "name": "stderr",
     "output_type": "stream",
     "text": [
      "/Users/laurenerminina/opt/anaconda3/envs/PythonData/envs/PythonData/lib/python3.7/site-packages/ipykernel_launcher.py:6: FutureWarning: The default value of regex will change from True to False in a future version.\n",
      "  \n"
     ]
    }
   ],
   "source": [
    "#percent of males 14 and under\n",
    "\n",
    "df_c[\"Percent of Males 14 yrs and Under\"] = df_c[\"Age structure - 0-14 years\"].str[12:24]\n",
    "\n",
    "# remove / and letters\n",
    "df_c[\"Percent of Males 14 yrs and Under\"]   = df_c[\"Percent of Males 14 yrs and Under\"] .str.replace(\"[/, f, e, m]\", \"\")\n",
    "\n",
    "#check results\n",
    "#df_c[\"Percent of Males 14 yrs and Under\"]"
   ]
  },
  {
   "cell_type": "code",
   "execution_count": 93,
   "id": "a4334384",
   "metadata": {},
   "outputs": [
    {
     "name": "stderr",
     "output_type": "stream",
     "text": [
      "/Users/laurenerminina/opt/anaconda3/envs/PythonData/envs/PythonData/lib/python3.7/site-packages/ipykernel_launcher.py:5: FutureWarning: The default value of regex will change from True to False in a future version.\n",
      "  \"\"\"\n"
     ]
    }
   ],
   "source": [
    "#slice for females 14 and under\n",
    "df_c[\"Percent of Females 14 yrs and Under\"] = df_c[\"Age structure - 0-14 years\"].str[28:]\n",
    "\n",
    "# remove / and letters\n",
    "df_c[\"Percent of Females 14 yrs and Under\"] = df_c[\"Percent of Females 14 yrs and Under\"]  .str.replace(\"[\\), f, e, m, a, l]\", \"\")\n",
    "\n",
    "#check result\n",
    "#df_c[\"Percent of Females 14 yrs and Under\"]"
   ]
  },
  {
   "cell_type": "code",
   "execution_count": 95,
   "id": "53c301ae",
   "metadata": {},
   "outputs": [],
   "source": [
    "#slice for percent 15- 24 and under\n",
    "df_c[\"Percent of People 15-24 yrs and Under\"] = df_c[\"Age structure - 15-24 years\"].str[:5]\n",
    "\n",
    "#check results\n",
    "#df_c[\"Percent of People 15-24 yrs and Under\"] "
   ]
  },
  {
   "cell_type": "code",
   "execution_count": 102,
   "id": "9433e478",
   "metadata": {},
   "outputs": [
    {
     "name": "stderr",
     "output_type": "stream",
     "text": [
      "/Users/laurenerminina/opt/anaconda3/envs/PythonData/envs/PythonData/lib/python3.7/site-packages/ipykernel_launcher.py:5: FutureWarning: The default value of regex will change from True to False in a future version.\n",
      "  \"\"\"\n"
     ]
    }
   ],
   "source": [
    "#slice for males 15-24 and under\n",
    "df_c[\"Males Between 15-24 Years\"] = df_c[\"Age structure - 15-24 years\"].str[12:22]\n",
    "\n",
    "# remove / and letters\n",
    "df_c[\"Males Between 15-24 Years\"] = df_c[\"Males Between 15-24 Years\"].str.replace(\"[/, f, e, m]\", \"\")\n",
    "\n",
    "#check results\n",
    "#df_c[\"Males Between 15-24 Years\"] "
   ]
  },
  {
   "cell_type": "code",
   "execution_count": 103,
   "id": "a83198ee",
   "metadata": {},
   "outputs": [
    {
     "name": "stderr",
     "output_type": "stream",
     "text": [
      "/Users/laurenerminina/opt/anaconda3/envs/PythonData/envs/PythonData/lib/python3.7/site-packages/ipykernel_launcher.py:5: FutureWarning: The default value of regex will change from True to False in a future version.\n",
      "  \"\"\"\n"
     ]
    }
   ],
   "source": [
    "#slice for fmales 15-24 and under\n",
    "df_c[\"Females Between 15-24 Years\"] = df_c[\"Age structure - 15-24 years\"].str[28:]\n",
    "\n",
    "# remove / and letters\n",
    "df_c[\"Females Between 15-24 Years\"]  = df_c[\"Females Between 15-24 Years\"].str.replace(\"[\\), f, e, m]\", \"\")\n",
    "\n",
    "#check results\n",
    "#df_c[\"Females Between 15-24 Years\"] "
   ]
  },
  {
   "cell_type": "code",
   "execution_count": 105,
   "id": "69b8a848",
   "metadata": {},
   "outputs": [],
   "source": [
    "#slice for percent 25 - 54 and under\n",
    "df_c[\"Percent of People 25-54 yrs\"] = df_c[\"Age structure - 25-54 years\"].str[:5]\n",
    "\n",
    "#check results\n",
    "#df_c[\"Percent of People 25-54 yrs\"] "
   ]
  },
  {
   "cell_type": "code",
   "execution_count": 109,
   "id": "5597154d",
   "metadata": {},
   "outputs": [
    {
     "name": "stderr",
     "output_type": "stream",
     "text": [
      "/Users/laurenerminina/opt/anaconda3/envs/PythonData/envs/PythonData/lib/python3.7/site-packages/ipykernel_launcher.py:5: FutureWarning: The default value of regex will change from True to False in a future version.\n",
      "  \"\"\"\n"
     ]
    }
   ],
   "source": [
    "#slice for males 25-54 \n",
    "df_c[\"Males Between 25-54 yrs\"] = df_c[\"Age structure - 25-54 years\"].str[11:23]\n",
    "\n",
    "# remove / and letters\n",
    "df_c[\"Males Between 25-54 yrs\"]  = df_c[\"Males Between 25-54 yrs\"].str.replace(\"[/, f, e, m]\", \"\")\n",
    "\n",
    "#check result\n",
    "#df_c[\"Males Between 25-54 yrs\"] "
   ]
  },
  {
   "cell_type": "code",
   "execution_count": 115,
   "id": "005a6588",
   "metadata": {},
   "outputs": [
    {
     "name": "stderr",
     "output_type": "stream",
     "text": [
      "/Users/laurenerminina/opt/anaconda3/envs/PythonData/envs/PythonData/lib/python3.7/site-packages/ipykernel_launcher.py:5: FutureWarning: The default value of regex will change from True to False in a future version.\n",
      "  \"\"\"\n"
     ]
    }
   ],
   "source": [
    "#slice for females 25-54 and under\n",
    "df_c[\"Females Between 25-54 yrs\"] = df_c[\"Age structure - 25-54 years\"].str[28:]\n",
    "\n",
    "# remove / and letters\n",
    "df_c[\"Females Between 25-54 yrs\"] = df_c[\"Females Between 25-54 yrs\"].str.replace(\"[\\), f, e, m]\", \"\")\n",
    "\n",
    "#check results\n",
    "#df_c[\"Females Between 25-54 yrs\"]"
   ]
  },
  {
   "cell_type": "code",
   "execution_count": 119,
   "id": "e1622054",
   "metadata": {},
   "outputs": [
    {
     "name": "stderr",
     "output_type": "stream",
     "text": [
      "/Users/laurenerminina/opt/anaconda3/envs/PythonData/envs/PythonData/lib/python3.7/site-packages/ipykernel_launcher.py:5: FutureWarning: The default value of regex will change from True to False in a future version.\n",
      "  \"\"\"\n"
     ]
    }
   ],
   "source": [
    "#slice for percent 55-64\n",
    "df_c[\"Percent of People 55-64\"] = df_c[\"Age structure - 55-64 years\"].str[:5]\n",
    "\n",
    "# remove ( and l%\n",
    "df_c[\"Percent of People 55-64\"] = df_c[\"Percent of People 55-64\"].str.replace(\"[\\(, %]\", \"\")\n",
    "\n",
    "#check results\n",
    "#df_c[\"Percent of People 55-64\"]\n"
   ]
  },
  {
   "cell_type": "code",
   "execution_count": 122,
   "id": "2eadf97a",
   "metadata": {},
   "outputs": [
    {
     "name": "stderr",
     "output_type": "stream",
     "text": [
      "/Users/laurenerminina/opt/anaconda3/envs/PythonData/envs/PythonData/lib/python3.7/site-packages/ipykernel_launcher.py:5: FutureWarning: The default value of regex will change from True to False in a future version.\n",
      "  \"\"\"\n"
     ]
    }
   ],
   "source": [
    "#slice for males 55-64\n",
    "df_c[\"Males Between 55-64 yrs\"] = df_c[\"Age structure - 55-64 years\"].str[11:23]\n",
    "\n",
    "# remove / and letters\n",
    "df_c[\"Males Between 55-64 yrs\"]  = df_c[\"Males Between 55-64 yrs\"].str.replace(\"[/, f, e, m]\", \"\")\n",
    "\n",
    "#Check Results\n",
    "#df_c[\"Males Between 55-64 yrs\"]"
   ]
  },
  {
   "cell_type": "code",
   "execution_count": 125,
   "id": "de64d31b",
   "metadata": {},
   "outputs": [
    {
     "name": "stderr",
     "output_type": "stream",
     "text": [
      "/Users/laurenerminina/opt/anaconda3/envs/PythonData/envs/PythonData/lib/python3.7/site-packages/ipykernel_launcher.py:5: FutureWarning: The default value of regex will change from True to False in a future version.\n",
      "  \"\"\"\n"
     ]
    }
   ],
   "source": [
    "#slice for females 55-64\n",
    "df_c[\"Females Between 55-64 yrs\"] = df_c[\"Age structure - 55-64 years\"].str[28:]\n",
    "\n",
    "# remove / and letters\n",
    "df_c[\"Females Between 55-64 yrs\"] = df_c[\"Females Between 55-64 yrs\"].str.replace(\"[\\), f, e, m]\", \"\")\n",
    "\n",
    "#check Results\n",
    "#df_c[\"Females Between 55-64 yrs\"] "
   ]
  },
  {
   "cell_type": "code",
   "execution_count": 127,
   "id": "f058068b",
   "metadata": {},
   "outputs": [],
   "source": [
    "#slice total median age column\n",
    "df_c[\"Median Age (in years)\"] = df_c[\"Total Median age\"].str[:4]\n",
    "\n",
    "#check results\n",
    "#df_c[\"Median Age (in years)\"] "
   ]
  },
  {
   "cell_type": "code",
   "execution_count": 129,
   "id": "e1a74fe1",
   "metadata": {},
   "outputs": [],
   "source": [
    "#female median age column\n",
    "df_c[\"Female Median Age (in years)\"] = df_c[\"Female Median age\"].str[:4]\n",
    "\n",
    "#check results\n",
    "#df_c[\"Female Median Age (in years)\"]"
   ]
  },
  {
   "cell_type": "code",
   "execution_count": 131,
   "id": "b2dffe7b",
   "metadata": {},
   "outputs": [],
   "source": [
    "# male median age column\n",
    "df_c[\"Male Median Age (in years)\"] = df_c[\"Male Median age\"].str[:4]\n",
    "\n",
    "#check results\n",
    "#df_c[\"Male Median Age (in years)\"] "
   ]
  },
  {
   "cell_type": "code",
   "execution_count": 135,
   "id": "be12566b",
   "metadata": {},
   "outputs": [],
   "source": [
    "#pop growth rate column\n",
    "df_c[\"Population Growth Rate (Est 2022)\"] = df_c[\"Population growth rate\"].str[:5]\n",
    "\n",
    "#remove %\n",
    "df_c[\"Population Growth Rate (Est 2022)\"] = df_c[\"Population Growth Rate (Est 2022)\"].str.replace(\"%\", \"\")\n",
    "\n",
    "#check results\n",
    "#df_c[\"Population Growth Rate (Est 2022)\"]"
   ]
  },
  {
   "cell_type": "code",
   "execution_count": 137,
   "id": "0404c916",
   "metadata": {},
   "outputs": [],
   "source": [
    "#birth rate column\n",
    "df_c[\"Birth rate (births/1,000 population, 2022 est)\"] = df_c[\"Birth rate\"].str[:5]\n",
    "\n",
    "#check results\n",
    "#df_c[\"Birth rate (births/1,000 population, 2022 est)\"]"
   ]
  },
  {
   "cell_type": "code",
   "execution_count": 139,
   "id": "fb3ff99f",
   "metadata": {},
   "outputs": [],
   "source": [
    "#Gender rate at birth \n",
    "df_c[\"Gender Ratio at Birth (male(s)/female)\"] = df_c[\"Sex ratio at Birth\"].str[:5]\n",
    "\n",
    "#check results\n",
    "#df_c[\"Gender Ratio at Birth (male(s)/female)\"]"
   ]
  },
  {
   "cell_type": "code",
   "execution_count": 142,
   "id": "3b8c28d2",
   "metadata": {},
   "outputs": [],
   "source": [
    "#sex ratio 65 and older\n",
    "df_c[\"65 & Older Gender Ratio (male(s)/female)\"] = df_c[\"65 & Older Sex Ratio\"].str[:5]\n",
    "\n",
    "#remove m\n",
    "df_c[\"65 & Older Gender Ratio (male(s)/female)\"] = df_c[\"65 & Older Gender Ratio (male(s)/female)\"].str.replace(\"m\", \"\")\n",
    "\n",
    "#check results\n",
    "#df_c[\"65 & Older Gender Ratio (male(s)/female)\"] "
   ]
  },
  {
   "cell_type": "code",
   "execution_count": 147,
   "id": "35faa393",
   "metadata": {},
   "outputs": [
    {
     "name": "stderr",
     "output_type": "stream",
     "text": [
      "/Users/laurenerminina/opt/anaconda3/envs/PythonData/envs/PythonData/lib/python3.7/site-packages/ipykernel_launcher.py:5: FutureWarning: The default value of regex will change from True to False in a future version.\n",
      "  \"\"\"\n"
     ]
    }
   ],
   "source": [
    "#sex ratio total population\n",
    "df_c[\"Total Pop Gender Ratio (male(s)/female, as of 2022\"] = df_c[\"Total Pop Sex Ratio\"].str[:4]\n",
    "\n",
    "#remove letters\n",
    "df_c[\"Total Pop Gender Ratio (male(s)/female, as of 2022\"] = df_c[\"Total Pop Gender Ratio (male(s)/female, as of 2022\"].str.replace(\"[m,a]\", \"\")\n",
    "\n",
    "#check results\n",
    "#df_c[\"Total Pop Gender Ratio (male(s)/female, as of 2022\"]"
   ]
  },
  {
   "cell_type": "code",
   "execution_count": 150,
   "id": "bf739247",
   "metadata": {},
   "outputs": [],
   "source": [
    "#infant mortality rate column\n",
    "df_c[\"Total Infant Mortality Rate (deaths/1,000 live births)\"] = df_c[\"Total Infant Mortality Rate\"].str[:5]\n",
    "\n",
    "#remove d\n",
    "#check results\n",
    "df_c[\"Total Infant Mortality Rate (deaths/1,000 live births)\"] = df_c[\"Total Infant Mortality Rate (deaths/1,000 live births)\"].str.replace(\"d\", \"\")\n",
    "\n",
    "#check results\n",
    "#df_c[\"Total Infant Mortality Rate (deaths/1,000 live births)\"] "
   ]
  },
  {
   "cell_type": "code",
   "execution_count": 153,
   "id": "44620266",
   "metadata": {},
   "outputs": [
    {
     "name": "stderr",
     "output_type": "stream",
     "text": [
      "/Users/laurenerminina/opt/anaconda3/envs/PythonData/envs/PythonData/lib/python3.7/site-packages/ipykernel_launcher.py:5: FutureWarning: The default value of regex will change from True to False in a future version.\n",
      "  \"\"\"\n"
     ]
    }
   ],
   "source": [
    "# life expectancy at birth\n",
    "df_c[\"Total Population Life Expectancy at Birth (in years)\"] = df_c[\"Total Pop Life expectancy at birth\"].str[:5]\n",
    "\n",
    "#remove letters\n",
    "df_c[\"Total Population Life Expectancy at Birth (in years)\"] = df_c[\"Total Population Life Expectancy at Birth (in years)\"].str.replace(\"[y, e]\", \"\")\n",
    "\n",
    "#check results\n",
    "#df_c[\"Total Population Life Expectancy at Birth (in years)\"]"
   ]
  },
  {
   "cell_type": "code",
   "execution_count": 155,
   "id": "2ab19c76",
   "metadata": {},
   "outputs": [],
   "source": [
    "#male life expectancy at birth\n",
    "df_c[\"Male Life expectancy at birth (in years)\"] = df_c[\"Male Life expectancy at birth\"].str[:5]\n",
    "\n",
    "#check results\n",
    "#df_c[\"Male Life expectancy at birth (in years)\"] "
   ]
  },
  {
   "cell_type": "code",
   "execution_count": 157,
   "id": "aed61143",
   "metadata": {},
   "outputs": [],
   "source": [
    "df_c[\"Female Life expectancy at birth (in years)\"] = df_c[\"Female Life expectancy at birth\"].str[:5]\n",
    "\n",
    "#check results\n",
    "#df_c[\"Female Life expectancy at birth (in years)\"]"
   ]
  },
  {
   "cell_type": "code",
   "execution_count": 160,
   "id": "f507cbaf",
   "metadata": {},
   "outputs": [
    {
     "name": "stderr",
     "output_type": "stream",
     "text": [
      "/Users/laurenerminina/opt/anaconda3/envs/PythonData/envs/PythonData/lib/python3.7/site-packages/ipykernel_launcher.py:5: FutureWarning: The default value of regex will change from True to False in a future version.\n",
      "  \"\"\"\n"
     ]
    }
   ],
   "source": [
    "#Total fertility rate column\n",
    "df_c[\"Total Fertility Rate (children born/woman (2022 est.)\"] = df_c[\"Total fertility rate\"].str[:5]\n",
    "\n",
    "#remove letters chi\n",
    "df_c[\"Total Fertility Rate (children born/woman (2022 est.)\"] = df_c[\"Total Fertility Rate (children born/woman (2022 est.)\"].str.replace(\"[c,h,i]\", \"\")\n",
    "#check results\n",
    "#df_c[\"Total Fertility Rate (children born/woman (2022 est.)\"]"
   ]
  },
  {
   "cell_type": "code",
   "execution_count": 164,
   "id": "d3e26e10",
   "metadata": {},
   "outputs": [
    {
     "name": "stderr",
     "output_type": "stream",
     "text": [
      "/Users/laurenerminina/opt/anaconda3/envs/PythonData/envs/PythonData/lib/python3.7/site-packages/ipykernel_launcher.py:5: FutureWarning: The default value of regex will change from True to False in a future version.\n",
      "  \"\"\"\n"
     ]
    }
   ],
   "source": [
    "#obesity rate column\n",
    "df_c[\"Percent of Adult Obesity Rate (Est 2016)\"] = df_c[\"Adult Obesity Prev Rate\"].str[:5]\n",
    "\n",
    "#remove % and (\n",
    "df_c[\"Percent of Adult Obesity Rate (Est 2016)\"] = df_c[\"Percent of Adult Obesity Rate (Est 2016)\"].str.replace(\"[%, \\()]\", \"\")\n",
    "\n",
    "#check results\n",
    "#df_c[\"Percent of Adult Obesity Rate (Est 2016)\"] "
   ]
  },
  {
   "cell_type": "code",
   "execution_count": 167,
   "id": "3ca6b7cb",
   "metadata": {},
   "outputs": [
    {
     "name": "stderr",
     "output_type": "stream",
     "text": [
      "/Users/laurenerminina/opt/anaconda3/envs/PythonData/envs/PythonData/lib/python3.7/site-packages/ipykernel_launcher.py:5: FutureWarning: The default value of regex will change from True to False in a future version.\n",
      "  \"\"\"\n"
     ]
    }
   ],
   "source": [
    "#tobacco use\n",
    "df_c[\"Percent of Tobacco Use (Est 2020)\"] = df_c[\"Total Tobacco use\"].str[:5]\n",
    "\n",
    "#remove % and (\n",
    "df_c[\"Percent of Tobacco Use (Est 2020)\"] = df_c[\"Percent of Tobacco Use (Est 2020)\"].str.replace(\"[%, \\()]\", \"\")\n",
    "\n",
    "#check results\n",
    "#df_c[\"Percent of Tobacco Use (Est 2020)\"]"
   ]
  },
  {
   "cell_type": "code",
   "execution_count": 170,
   "id": "677faac7",
   "metadata": {},
   "outputs": [
    {
     "name": "stderr",
     "output_type": "stream",
     "text": [
      "/Users/laurenerminina/opt/anaconda3/envs/PythonData/envs/PythonData/lib/python3.7/site-packages/ipykernel_launcher.py:5: FutureWarning: The default value of regex will change from True to False in a future version.\n",
      "  \"\"\"\n"
     ]
    }
   ],
   "source": [
    "#internet users column\n",
    "df_c[\"Percent of Internet Users (2020 est.)\"] = df_c[\"Total Internet Users\"].str[:10]\n",
    "\n",
    "#remove mill\n",
    "df_c[\"Percent of Internet Users (2020 est.)\"] = df_c[\"Percent of Internet Users (2020 est.)\"].str.replace(\"[m, i, l]\", \"\")\n",
    "\n",
    "#check results\n",
    "#df_c[\"Percent of Internet Users (2020 est.)\"] "
   ]
  },
  {
   "cell_type": "code",
   "execution_count": 173,
   "id": "3731f81a",
   "metadata": {},
   "outputs": [],
   "source": [
    "#2021 military expenditures\n",
    "df_c[\"2021 Military Expenditures (as % of GDP)\"] = df_c[\"Military expenditures\"].str[:3]\n",
    "\n",
    "#remove %\n",
    "df_c[\"2021 Military Expenditures (as % of GDP)\"] = df_c[\"2021 Military Expenditures (as % of GDP)\"].str.replace(\"%\", \"\")\n",
    "\n",
    "#check results\n",
    "#df_c[\"2021 Military Expenditures (as % of GDP)\"]"
   ]
  },
  {
   "cell_type": "code",
   "execution_count": 179,
   "id": "6989ab07",
   "metadata": {},
   "outputs": [
    {
     "name": "stderr",
     "output_type": "stream",
     "text": [
      "/Users/laurenerminina/opt/anaconda3/envs/PythonData/envs/PythonData/lib/python3.7/site-packages/ipykernel_launcher.py:5: FutureWarning: The default value of regex will change from True to False in a future version.\n",
      "  \"\"\"\n"
     ]
    }
   ],
   "source": [
    "#2020 military expenditures\n",
    "df_c[\"2020 Military Expenditures (as % of GDP)\"] = df_c[\"Military expenditures\"].str[20:29]\n",
    "\n",
    "#remove t, , ), %, o, f, g, d\n",
    "df_c[\"2020 Military Expenditures (as % of GDP)\"] = df_c[\"2020 Military Expenditures (as % of GDP)\"].str.replace(\"[t, \\), %, o, g, d, G, D, P, f]\", \"\")\n",
    "\n",
    "#check results\n",
    "#df_c[\"2020 Military Expenditures (as % of GDP)\"]\n",
    "\n",
    "#second cleaning fix last result"
   ]
  },
  {
   "cell_type": "code",
   "execution_count": 188,
   "id": "38df109e",
   "metadata": {},
   "outputs": [
    {
     "name": "stderr",
     "output_type": "stream",
     "text": [
      "/Users/laurenerminina/opt/anaconda3/envs/PythonData/envs/PythonData/lib/python3.7/site-packages/ipykernel_launcher.py:5: FutureWarning: The default value of regex will change from True to False in a future version.\n",
      "  \"\"\"\n"
     ]
    }
   ],
   "source": [
    "#2019 military expenditures\n",
    "df_c[\"2019 Military Expenditures (as % of GDP)\"] = df_c[\"Military expenditures\"].str[39:51]\n",
    "\n",
    "#remove letters and items\n",
    "df_c[\"2019 Military Expenditures (as % of GDP)\"] = df_c[\"2019 Military Expenditures (as % of GDP)\"].str.replace(\"[t, o, f, g, d, p, G, D, P, e, s]\", \"\")\n",
    "\n",
    "#check results\n",
    "#df_c[\"2019 Military Expenditures (as % of GDP)\"]\n",
    "\n",
    "#Second cleaning: remove percent, leading and traiing items"
   ]
  },
  {
   "cell_type": "code",
   "execution_count": 190,
   "id": "0bab275a",
   "metadata": {},
   "outputs": [],
   "source": [
    "#drop dup columns and organize into new DF\n",
    "df_d = df_c.drop(['GDP per Capita',\n",
    "     'Econ Current Acct Bal',\n",
    "     'Exports',\n",
    "     'Exports - Partners',\n",
    "     'Foreign Exchange & Gold',\n",
    "     'Tota; Population Electrication',\n",
    "     \"Moody's Rating\",\n",
    "     'Standard & Poors Rating',\n",
    "     'Fitch Rating',\n",
    "     'Unemployment Rate',\n",
    "     'Population below poverty line',\n",
    "     'Household income or consumption by % -highest 10%',\n",
    "     'Population',\n",
    "     'Nationality - noun',\n",
    "     'Nationality - adjective',\n",
    "     'Languages',\n",
    "     'Religions',\n",
    "     'Age structure - 0-14 years',\n",
    "     'Age structure - 15-24 years',\n",
    "     'Age structure - 25-54 years',\n",
    "     'Age structure - 55-64 years',\n",
    "     'Total Median age',\n",
    "     'Male Median age',\n",
    "     'Female Median age',\n",
    "     'Population growth rate',\n",
    "     'Birth rate',\n",
    "     'Death rate',\n",
    "     'Net migration rate',\n",
    "     'Urban Population',\n",
    "     'Sex ratio at Birth',\n",
    "     '65 & Older Sex Ratio',\n",
    "     'Total Pop Sex Ratio',\n",
    "     'Total Infant Mortality Rate',\n",
    "     'Total Pop Life expectancy at birth',\n",
    "     'Male Life expectancy at birth',\n",
    "     'Female Life expectancy at birth',\n",
    "     'Total fertility rate',\n",
    "     'Adult Obesity Prev Rate',\n",
    "     'Total Tobacco use',\n",
    "     'Total Internet Users',\n",
    "     'Internet users - % of Pop',\n",
    "     'Military expenditures'], axis=1)\n"
   ]
  },
  {
   "cell_type": "code",
   "execution_count": 191,
   "id": "1ac2df53",
   "metadata": {},
   "outputs": [
    {
     "data": {
      "text/plain": [
       "['Country',\n",
       " 'Geographic coordinates',\n",
       " 'Map references',\n",
       " 'Geography: Area - total',\n",
       " 'Military service age and obligation',\n",
       " 'Terrorism: Terrorist group(s)',\n",
       " 'Military and Security: Military - note',\n",
       " 'LATITUDE',\n",
       " 'LONGITUDE',\n",
       " '2020 Real GDP',\n",
       " '2019 Real GDP',\n",
       " '2018 Real GDP',\n",
       " 'GDP Growth Rate Est 1 (in %)',\n",
       " 'GDP Growth Rate Est 2(in %)',\n",
       " 'GDP Growth Rate Est 3(in %)',\n",
       " 'GDP per Capita Est 2020 (in $)',\n",
       " 'GDP per Capita Est 2019 (in $)',\n",
       " 'GDP per Capita Est 2018',\n",
       " 'Econ: Current Acct Bal Est 1',\n",
       " 'Econ: Current Acct Bal Est 2',\n",
       " 'Exports Est 1',\n",
       " 'Exports Est 2',\n",
       " 'Top Export Partner- Country and %',\n",
       " 'Foreign Exchange & Gold - Est 2017',\n",
       " 'Foreign Exchange & Gold - Est 2017, in billions',\n",
       " 'Total Population Electrification by % (Est 2019 - 2020)',\n",
       " 'Unemployment Rate (Est 2012 - 2019)',\n",
       " 'Unemployment Rate in % (Est 2012 - 2019)',\n",
       " 'Population Below Poverty Line in % (Est 2012 - 2019)',\n",
       " 'Population below poverty line - Year Recorded',\n",
       " 'Percent Population Below Poverty Line - Year Recorded',\n",
       " 'Household income or consumption by % (-highest 10%)',\n",
       " 'Household Income or Consumption by % -Est 2010 - 2017 (highest 10% of population)',\n",
       " 'Household Income or Consumption by (year recorded)',\n",
       " 'Population (as of 2022)',\n",
       " 'Percent of People 14 yrs and under',\n",
       " 'Percent of Population 14 yrs and under',\n",
       " 'Percent of Males 14 yrs and Under',\n",
       " 'Percent of Females 14 yrs and Under',\n",
       " 'Percent of People 15-24 yrs and Under',\n",
       " 'Males Between 15-24 Years',\n",
       " 'Females Between 15-24 Years',\n",
       " 'Percent of People 25-54 yrs',\n",
       " 'Males Between 25-54 yrs',\n",
       " 'Females Between 25-54 yrs',\n",
       " 'Percent of People 55-64',\n",
       " 'Males Between 55-64 yrs',\n",
       " 'Females Between 55-64 yrs',\n",
       " 'Median Age (in years)',\n",
       " 'Female Median Age (in years)',\n",
       " 'Male Median Age (in years)',\n",
       " 'Population Growth Rate (Est 2022)',\n",
       " 'Birth rate (births/1,000 population, 2022 est)',\n",
       " 'Sex ratio at Birth (male(s)/female)',\n",
       " 'Sex Ratio at Birth (male(s)/female)',\n",
       " '65 & Older Sex Ratio (male(s)/female)',\n",
       " 'Total Pop Gender Ratio (male(s)/female, as of 2022',\n",
       " 'Total Infant Mortality Rate (deaths/1,000 live births)',\n",
       " 'Total Population Life Expectancy at Birth (in years)',\n",
       " 'Male Life expectancy at birth (in years)',\n",
       " 'Female Life expectancy at birth (in years)',\n",
       " 'Total Fertility Rate (children born/woman (2022 est.)',\n",
       " 'Adult Obesity Prev Rate in percentages (Est 2016)',\n",
       " 'Percent of Adult Obesity Rate (Est 2016)',\n",
       " 'Percent of Total Tobacco Use (Est 2020)',\n",
       " 'Percent of Internet Users (2020 est.)',\n",
       " '2021 Military Expenditures (as % of GDP)',\n",
       " '2020 Military Expenditures (as % of GDP)',\n",
       " '2019 Military Expenditures (as % of GDP)']"
      ]
     },
     "execution_count": 191,
     "metadata": {},
     "output_type": "execute_result"
    }
   ],
   "source": [
    "#check results\n",
    "df_d.columns.to_list()"
   ]
  },
  {
   "cell_type": "code",
   "execution_count": 192,
   "id": "ef026c6f",
   "metadata": {},
   "outputs": [],
   "source": [
    "# reorder columns\n",
    "\n",
    "df_d = df_d[['Country',\n",
    " 'Geographic coordinates',\n",
    " 'Map references',\n",
    " 'Geography: Area - total',\n",
    " 'LATITUDE', 'LONGITUDE',\n",
    " 'Terrorism: Terrorist group(s)',\n",
    " 'LONGITUDE',\n",
    " '2020 Real GDP',\n",
    " '2019 Real GDP',\n",
    " '2018 Real GDP',\n",
    " 'GDP Growth Rate Est 1 (in %)',\n",
    " 'GDP Growth Rate Est 2(in %)',\n",
    " 'GDP Growth Rate Est 3(in %)',\n",
    " 'GDP per Capita Est 2020 (in $)',\n",
    " 'GDP per Capita Est 2019 (in $)',\n",
    " 'GDP per Capita Est 2018',\n",
    " 'Econ: Current Acct Bal Est 1',\n",
    " 'Econ: Current Acct Bal Est 2',\n",
    " 'Exports Est 1',\n",
    " 'Exports Est 2',\n",
    " 'Top Export Partner- Country and %',\n",
    " 'Foreign Exchange & Gold - Est 2017',\n",
    " 'Foreign Exchange & Gold - Est 2017, in billions',\n",
    " 'Total Population Electrification by % (Est 2019 - 2020)',\n",
    " 'Unemployment Rate (Est 2012 - 2019)',\n",
    " 'Unemployment Rate in % (Est 2012 - 2019)',\n",
    " 'Population Below Poverty Line in % (Est 2012 - 2019)',\n",
    " 'Population below poverty line - Year Recorded',\n",
    " 'Percent Population Below Poverty Line - Year Recorded',\n",
    " 'Household income or consumption by % (-highest 10%)',\n",
    " 'Household Income or Consumption by % -Est 2010 - 2017 (highest 10% of population)',\n",
    " 'Household Income or Consumption by (year recorded)',\n",
    " 'Population (as of 2022)',\n",
    " 'Percent of People 14 yrs and under',\n",
    " 'Percent of Population 14 yrs and under',\n",
    " 'Percent of Males 14 yrs and Under',\n",
    " 'Percent of Females 14 yrs and Under',\n",
    " 'Percent of People 15-24 yrs and Under',\n",
    " 'Males Between 15-24 Years',\n",
    " 'Females Between 15-24 Years',\n",
    " 'Percent of People 25-54 yrs',\n",
    " 'Males Between 25-54 yrs',\n",
    " 'Females Between 25-54 yrs',\n",
    " 'Percent of People 55-64',\n",
    " 'Males Between 55-64 yrs',\n",
    " 'Females Between 55-64 yrs',\n",
    " 'Median Age (in years)',\n",
    " 'Female Median Age (in years)',\n",
    " 'Male Median Age (in years)',\n",
    " 'Population Growth Rate (Est 2022)',\n",
    " 'Birth rate (births/1,000 population, 2022 est)',\n",
    " 'Sex ratio at Birth (male(s)/female)',\n",
    " 'Sex Ratio at Birth (male(s)/female)',\n",
    " '65 & Older Sex Ratio (male(s)/female)',\n",
    " 'Total Pop Gender Ratio (male(s)/female, as of 2022',\n",
    " 'Total Infant Mortality Rate (deaths/1,000 live births)',\n",
    " 'Total Population Life Expectancy at Birth (in years)',\n",
    " 'Male Life expectancy at birth (in years)',\n",
    " 'Female Life expectancy at birth (in years)',\n",
    " 'Total Fertility Rate (children born/woman (2022 est.)',\n",
    " 'Adult Obesity Prev Rate in percentages (Est 2016)',\n",
    " 'Percent of Adult Obesity Rate (Est 2016)',\n",
    " 'Percent of Total Tobacco Use (Est 2020)',\n",
    " 'Percent of Internet Users (2020 est.)',\n",
    " '2021 Military Expenditures (as % of GDP)',\n",
    " '2020 Military Expenditures (as % of GDP)',\n",
    " '2019 Military Expenditures (as % of GDP)', \n",
    " 'Military and Security: Military - note',\n",
    " 'Military service age and obligation']]"
   ]
  },
  {
   "cell_type": "code",
   "execution_count": 194,
   "id": "49c1dc60",
   "metadata": {},
   "outputs": [
    {
     "data": {
      "text/html": [
       "<div>\n",
       "<style scoped>\n",
       "    .dataframe tbody tr th:only-of-type {\n",
       "        vertical-align: middle;\n",
       "    }\n",
       "\n",
       "    .dataframe tbody tr th {\n",
       "        vertical-align: top;\n",
       "    }\n",
       "\n",
       "    .dataframe thead th {\n",
       "        text-align: right;\n",
       "    }\n",
       "</style>\n",
       "<table border=\"1\" class=\"dataframe\">\n",
       "  <thead>\n",
       "    <tr style=\"text-align: right;\">\n",
       "      <th></th>\n",
       "      <th>Country</th>\n",
       "      <th>Geographic coordinates</th>\n",
       "      <th>Map references</th>\n",
       "      <th>Geography: Area - total</th>\n",
       "      <th>LATITUDE</th>\n",
       "      <th>LONGITUDE</th>\n",
       "      <th>Terrorism: Terrorist group(s)</th>\n",
       "      <th>LONGITUDE</th>\n",
       "      <th>2020 Real GDP</th>\n",
       "      <th>2019 Real GDP</th>\n",
       "      <th>...</th>\n",
       "      <th>Total Fertility Rate (children born/woman (2022 est.)</th>\n",
       "      <th>Adult Obesity Prev Rate in percentages (Est 2016)</th>\n",
       "      <th>Percent of Adult Obesity Rate (Est 2016)</th>\n",
       "      <th>Percent of Total Tobacco Use (Est 2020)</th>\n",
       "      <th>Percent of Internet Users (2020 est.)</th>\n",
       "      <th>2021 Military Expenditures (as % of GDP)</th>\n",
       "      <th>2020 Military Expenditures (as % of GDP)</th>\n",
       "      <th>2019 Military Expenditures (as % of GDP)</th>\n",
       "      <th>Military and Security: Military - note</th>\n",
       "      <th>Military service age and obligation</th>\n",
       "    </tr>\n",
       "  </thead>\n",
       "  <tbody>\n",
       "    <tr>\n",
       "      <th>10</th>\n",
       "      <td>Argentina</td>\n",
       "      <td>34 00 S, 64 00 W</td>\n",
       "      <td>South America</td>\n",
       "      <td>2,780,400 sq km</td>\n",
       "      <td>34 00 S</td>\n",
       "      <td>64 00 W</td>\n",
       "      <td>Hizballah</td>\n",
       "      <td>64 00 W</td>\n",
       "      <td>893.31</td>\n",
       "      <td>991.52</td>\n",
       "      <td>...</td>\n",
       "      <td>2.18</td>\n",
       "      <td>28.3</td>\n",
       "      <td>28.3</td>\n",
       "      <td>24.5</td>\n",
       "      <td>39024016</td>\n",
       "      <td>0.8</td>\n",
       "      <td>.0.8</td>\n",
       "      <td>0)0.7%</td>\n",
       "      <td>Argentina has Major Non-NATO Ally (MNNA) statu...</td>\n",
       "      <td>18-24 years of age for voluntary military serv...</td>\n",
       "    </tr>\n",
       "    <tr>\n",
       "      <th>15</th>\n",
       "      <td>Austria</td>\n",
       "      <td>47 20 N, 13 20 E</td>\n",
       "      <td>Europe</td>\n",
       "      <td>83,871 sq km</td>\n",
       "      <td>47 20 N</td>\n",
       "      <td>13 20 E</td>\n",
       "      <td>Islamic State of Iraq and ash-Sham (ISIS)</td>\n",
       "      <td>13 20 E</td>\n",
       "      <td>463.12</td>\n",
       "      <td>495.8</td>\n",
       "      <td>...</td>\n",
       "      <td>1.51</td>\n",
       "      <td>20.1</td>\n",
       "      <td>20.1</td>\n",
       "      <td>26.4</td>\n",
       "      <td>7846840</td>\n",
       "      <td>0.9</td>\n",
       "      <td>.0.7</td>\n",
       "      <td>0.)0.7%</td>\n",
       "      <td>Austria is constitutionally non-aligned, but i...</td>\n",
       "      <td>registration requirement at age 17, the legal ...</td>\n",
       "    </tr>\n",
       "    <tr>\n",
       "      <th>16</th>\n",
       "      <td>Azerbaijan</td>\n",
       "      <td>40 30 N, 47 30 E</td>\n",
       "      <td>Asia</td>\n",
       "      <td>86,600 sq km</td>\n",
       "      <td>40 30 N</td>\n",
       "      <td>47 30 E</td>\n",
       "      <td>Islamic State of Iraq and ash-Sham (ISIS); Isl...</td>\n",
       "      <td>47 30 E</td>\n",
       "      <td>138.51</td>\n",
       "      <td>144.74</td>\n",
       "      <td>...</td>\n",
       "      <td>1.86</td>\n",
       "      <td>19.9</td>\n",
       "      <td>19.9</td>\n",
       "      <td>24</td>\n",
       "      <td>8579153</td>\n",
       "      <td>5.2</td>\n",
       "      <td>.5.4</td>\n",
       "      <td>0.)3.8%</td>\n",
       "      <td>since November 2020, Russia has deployed about...</td>\n",
       "      <td>men age 18-35 years for compulsory military se...</td>\n",
       "    </tr>\n",
       "    <tr>\n",
       "      <th>20</th>\n",
       "      <td>Bangladesh</td>\n",
       "      <td>24 00 N, 90 00 E</td>\n",
       "      <td>Asia</td>\n",
       "      <td>148,460 sq km</td>\n",
       "      <td>24 00 N</td>\n",
       "      <td>90 00 E</td>\n",
       "      <td>Harakat ul-Jihad-i-Islami/Bangladesh; Islamic ...</td>\n",
       "      <td>90 00 E</td>\n",
       "      <td>793.49</td>\n",
       "      <td>775.08</td>\n",
       "      <td>...</td>\n",
       "      <td>2.09</td>\n",
       "      <td>3.6</td>\n",
       "      <td>3.6</td>\n",
       "      <td>34.7</td>\n",
       "      <td>41172346</td>\n",
       "      <td>1.2</td>\n",
       "      <td>.1.3</td>\n",
       "      <td>0.)1.4%</td>\n",
       "      <td>the military’s chief areas of focus are border...</td>\n",
       "      <td>16-21 years of age for voluntary military serv...</td>\n",
       "    </tr>\n",
       "    <tr>\n",
       "      <th>23</th>\n",
       "      <td>Belgium</td>\n",
       "      <td>50 50 N, 4 00 E</td>\n",
       "      <td>Europe</td>\n",
       "      <td>30,528 sq km</td>\n",
       "      <td>50 50 N</td>\n",
       "      <td>4 00 E</td>\n",
       "      <td>Islamic Revolutionary Guard Corps/Qods Force; ...</td>\n",
       "      <td>4 00 E</td>\n",
       "      <td>557.11</td>\n",
       "      <td>594.47</td>\n",
       "      <td>...</td>\n",
       "      <td>1.77</td>\n",
       "      <td>22.1</td>\n",
       "      <td>22.1</td>\n",
       "      <td>23.4</td>\n",
       "      <td>10620701</td>\n",
       "      <td>1.1</td>\n",
       "      <td>.1</td>\n",
       "      <td>0.9%</td>\n",
       "      <td>Belgium is a member of NATO and was one of the...</td>\n",
       "      <td>18 years of age for male and female voluntary ...</td>\n",
       "    </tr>\n",
       "  </tbody>\n",
       "</table>\n",
       "<p>5 rows × 70 columns</p>\n",
       "</div>"
      ],
      "text/plain": [
       "       Country Geographic coordinates Map references Geography: Area - total  \\\n",
       "10   Argentina       34 00 S, 64 00 W  South America         2,780,400 sq km   \n",
       "15     Austria       47 20 N, 13 20 E         Europe            83,871 sq km   \n",
       "16  Azerbaijan       40 30 N, 47 30 E           Asia            86,600 sq km   \n",
       "20  Bangladesh       24 00 N, 90 00 E           Asia           148,460 sq km   \n",
       "23     Belgium        50 50 N, 4 00 E         Europe            30,528 sq km   \n",
       "\n",
       "   LATITUDE LONGITUDE                      Terrorism: Terrorist group(s)  \\\n",
       "10  34 00 S   64 00 W                                          Hizballah   \n",
       "15  47 20 N   13 20 E          Islamic State of Iraq and ash-Sham (ISIS)   \n",
       "16  40 30 N   47 30 E  Islamic State of Iraq and ash-Sham (ISIS); Isl...   \n",
       "20  24 00 N   90 00 E  Harakat ul-Jihad-i-Islami/Bangladesh; Islamic ...   \n",
       "23  50 50 N    4 00 E  Islamic Revolutionary Guard Corps/Qods Force; ...   \n",
       "\n",
       "   LONGITUDE 2020 Real GDP 2019 Real GDP  ...  \\\n",
       "10   64 00 W       893.31         991.52  ...   \n",
       "15   13 20 E       463.12          495.8  ...   \n",
       "16   47 30 E       138.51         144.74  ...   \n",
       "20   90 00 E       793.49         775.08  ...   \n",
       "23    4 00 E       557.11         594.47  ...   \n",
       "\n",
       "   Total Fertility Rate (children born/woman (2022 est.)  \\\n",
       "10                                              2.18       \n",
       "15                                              1.51       \n",
       "16                                              1.86       \n",
       "20                                              2.09       \n",
       "23                                              1.77       \n",
       "\n",
       "   Adult Obesity Prev Rate in percentages (Est 2016)  \\\n",
       "10                                              28.3   \n",
       "15                                              20.1   \n",
       "16                                              19.9   \n",
       "20                                               3.6   \n",
       "23                                              22.1   \n",
       "\n",
       "   Percent of Adult Obesity Rate (Est 2016)  \\\n",
       "10                                     28.3   \n",
       "15                                     20.1   \n",
       "16                                     19.9   \n",
       "20                                      3.6   \n",
       "23                                     22.1   \n",
       "\n",
       "   Percent of Total Tobacco Use (Est 2020)  \\\n",
       "10                                    24.5   \n",
       "15                                    26.4   \n",
       "16                                      24   \n",
       "20                                    34.7   \n",
       "23                                    23.4   \n",
       "\n",
       "   Percent of Internet Users (2020 est.)  \\\n",
       "10                              39024016   \n",
       "15                               7846840   \n",
       "16                               8579153   \n",
       "20                              41172346   \n",
       "23                              10620701   \n",
       "\n",
       "   2021 Military Expenditures (as % of GDP)  \\\n",
       "10                                      0.8   \n",
       "15                                      0.9   \n",
       "16                                      5.2   \n",
       "20                                      1.2   \n",
       "23                                      1.1   \n",
       "\n",
       "   2020 Military Expenditures (as % of GDP)  \\\n",
       "10                                     .0.8   \n",
       "15                                     .0.7   \n",
       "16                                     .5.4   \n",
       "20                                     .1.3   \n",
       "23                                       .1   \n",
       "\n",
       "   2019 Military Expenditures (as % of GDP)  \\\n",
       "10                                   0)0.7%   \n",
       "15                                  0.)0.7%   \n",
       "16                                  0.)3.8%   \n",
       "20                                  0.)1.4%   \n",
       "23                                     0.9%   \n",
       "\n",
       "               Military and Security: Military - note  \\\n",
       "10  Argentina has Major Non-NATO Ally (MNNA) statu...   \n",
       "15  Austria is constitutionally non-aligned, but i...   \n",
       "16  since November 2020, Russia has deployed about...   \n",
       "20  the military’s chief areas of focus are border...   \n",
       "23  Belgium is a member of NATO and was one of the...   \n",
       "\n",
       "                  Military service age and obligation  \n",
       "10  18-24 years of age for voluntary military serv...  \n",
       "15  registration requirement at age 17, the legal ...  \n",
       "16  men age 18-35 years for compulsory military se...  \n",
       "20  16-21 years of age for voluntary military serv...  \n",
       "23  18 years of age for male and female voluntary ...  \n",
       "\n",
       "[5 rows x 70 columns]"
      ]
     },
     "execution_count": 194,
     "metadata": {},
     "output_type": "execute_result"
    }
   ],
   "source": [
    "#check result\n",
    "#df_d.columns.to_list()\n",
    "df_d.head()"
   ]
  },
  {
   "cell_type": "code",
   "execution_count": 196,
   "id": "193693ee",
   "metadata": {},
   "outputs": [],
   "source": [
    "#export to CSV\n",
    "\n",
    "df_d.to_csv(\"first_pass_clean_cia.csv\")"
   ]
  },
  {
   "cell_type": "code",
   "execution_count": null,
   "id": "c3a40a0b",
   "metadata": {},
   "outputs": [],
   "source": []
  }
 ],
 "metadata": {
  "kernelspec": {
   "display_name": "PythonData",
   "language": "python",
   "name": "pythondata"
  },
  "language_info": {
   "codemirror_mode": {
    "name": "ipython",
    "version": 3
   },
   "file_extension": ".py",
   "mimetype": "text/x-python",
   "name": "python",
   "nbconvert_exporter": "python",
   "pygments_lexer": "ipython3",
   "version": "3.7.11"
  }
 },
 "nbformat": 4,
 "nbformat_minor": 5
}
